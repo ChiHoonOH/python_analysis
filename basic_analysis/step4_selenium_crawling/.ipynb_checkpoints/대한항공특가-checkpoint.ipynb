{
 "cells": [
  {
   "cell_type": "code",
   "execution_count": 1,
   "metadata": {},
   "outputs": [],
   "source": [
    "# https://kr.koreanair.com/korea/ko/detailDiscountTicket.html#step1\n",
    "from selenium import webdriver as wd"
   ]
  },
  {
   "cell_type": "code",
   "execution_count": 4,
   "metadata": {},
   "outputs": [],
   "source": [
    "driver = wd.Chrome('./data/chromedriver.exe')\n",
    "driver.get('https://kr.koreanair.com/korea/ko/detailDiscountTicket.html#step1') # 제어시작"
   ]
  },
  {
   "cell_type": "code",
   "execution_count": 7,
   "metadata": {},
   "outputs": [],
   "source": [
    "depart= driver.find_element_by_css_selector('#KE1539258296639-0').get_attribute('value')"
   ]
  },
  {
   "cell_type": "code",
   "execution_count": 8,
   "metadata": {},
   "outputs": [
    {
     "data": {
      "text/plain": [
       "'서울/인천(ICN)'"
      ]
     },
     "execution_count": 8,
     "metadata": {},
     "output_type": "execute_result"
    }
   ],
   "source": [
    "depart"
   ]
  },
  {
   "cell_type": "code",
   "execution_count": 5,
   "metadata": {},
   "outputs": [],
   "source": [
    "dest=driver.find_element_by_css_selector('#selArrArea').find_elements_by_css_selector('option')"
   ]
  },
  {
   "cell_type": "code",
   "execution_count": 6,
   "metadata": {},
   "outputs": [
    {
     "name": "stdout",
     "output_type": "stream",
     "text": [
      "도착 지역 선택\n",
      "동북아시아 \n",
      "동남아시아/서남아시아 \n",
      "미주(북/남미)\n",
      "유럽\n",
      "대양주/괌\n",
      "러시아/몽골/중앙아시아\n",
      "중동/아프리카\n"
     ]
    }
   ],
   "source": [
    "for des in dest:\n",
    "    print(des.text)"
   ]
  },
  {
   "cell_type": "code",
   "execution_count": 11,
   "metadata": {},
   "outputs": [
    {
     "data": {
      "text/plain": [
       "['일반석', '프레스티지석']"
      ]
     },
     "execution_count": 11,
     "metadata": {},
     "output_type": "execute_result"
    }
   ],
   "source": [
    "class_air = driver.find_element_by_css_selector('#selclass').text\n",
    "class_air.split()"
   ]
  },
  {
   "cell_type": "code",
   "execution_count": 13,
   "metadata": {},
   "outputs": [],
   "source": [
    "driver.find_element_by_css_selector('.fromTarget').click()"
   ]
  },
  {
   "cell_type": "code",
   "execution_count": 15,
   "metadata": {},
   "outputs": [],
   "source": [
    "lefts = driver.find_element_by_css_selector('#tabAirpotSelect').find_elements_by_css_selector('li')"
   ]
  },
  {
   "cell_type": "code",
   "execution_count": 16,
   "metadata": {},
   "outputs": [
    {
     "name": "stdout",
     "output_type": "stream",
     "text": [
      "대한민국\n",
      "동북아시아\n",
      "동남아시아/서남아시아\n",
      "미주(북/남미)\n",
      "유럽\n",
      "대양주/괌\n",
      "러시아/몽골/중앙아시아\n",
      "중동/아프리카\n"
     ]
    }
   ],
   "source": [
    "for left in lefts:\n",
    "    print(left.find_element_by_css_selector('a').text)"
   ]
  },
  {
   "cell_type": "code",
   "execution_count": 22,
   "metadata": {},
   "outputs": [
    {
     "ename": "AttributeError",
     "evalue": "'list' object has no attribute 'find_elements_by_css_selector'",
     "output_type": "error",
     "traceback": [
      "\u001b[1;31m---------------------------------------------------------------------------\u001b[0m",
      "\u001b[1;31mAttributeError\u001b[0m                            Traceback (most recent call last)",
      "\u001b[1;32m<ipython-input-22-ac4090e4493b>\u001b[0m in \u001b[0;36m<module>\u001b[1;34m()\u001b[0m\n\u001b[1;32m----> 1\u001b[1;33m \u001b[0mcitys\u001b[0m \u001b[1;33m=\u001b[0m \u001b[0mdriver\u001b[0m\u001b[1;33m.\u001b[0m\u001b[0mfind_element_by_css_selector\u001b[0m\u001b[1;33m(\u001b[0m\u001b[1;34m'#contents-region-list0'\u001b[0m\u001b[1;33m)\u001b[0m\u001b[1;33m.\u001b[0m\u001b[0mfind_elements_by_css_selector\u001b[0m\u001b[1;33m(\u001b[0m\u001b[1;34m'span'\u001b[0m\u001b[1;33m)\u001b[0m\u001b[1;33m.\u001b[0m\u001b[0mfind_elements_by_css_selector\u001b[0m\u001b[1;33m(\u001b[0m\u001b[1;34m'plane aptOnline'\u001b[0m\u001b[1;33m)\u001b[0m\u001b[1;33m\u001b[0m\u001b[0m\n\u001b[0m",
      "\u001b[1;31mAttributeError\u001b[0m: 'list' object has no attribute 'find_elements_by_css_selector'"
     ]
    }
   ],
   "source": [
    "citys = driver.find_element_by_css_selector('#contents-region-list0').find_elements_by_css_selector('plane aptOnline')\n"
   ]
  },
  {
   "cell_type": "code",
   "execution_count": 20,
   "metadata": {},
   "outputs": [
    {
     "name": "stdout",
     "output_type": "stream",
     "text": [
      "서울/인천(ICN)\n",
      "공항\n",
      "공항\n",
      "서울/김포(GMP)\n",
      "공항\n",
      "공항\n",
      "부산/김해(PUS)\n",
      "공항\n",
      "공항\n",
      "제주(CJU)\n",
      "공항\n",
      "공항\n",
      "청주(CJJ)\n",
      "공항\n",
      "공항\n"
     ]
    }
   ],
   "source": [
    "for city in citys:\n",
    "    print(city.text)"
   ]
  },
  {
   "cell_type": "code",
   "execution_count": null,
   "metadata": {},
   "outputs": [],
   "source": []
  }
 ],
 "metadata": {
  "kernelspec": {
   "display_name": "Python 3",
   "language": "python",
   "name": "python3"
  },
  "language_info": {
   "codemirror_mode": {
    "name": "ipython",
    "version": 3
   },
   "file_extension": ".py",
   "mimetype": "text/x-python",
   "name": "python",
   "nbconvert_exporter": "python",
   "pygments_lexer": "ipython3",
   "version": "3.6.5"
  }
 },
 "nbformat": 4,
 "nbformat_minor": 2
}
