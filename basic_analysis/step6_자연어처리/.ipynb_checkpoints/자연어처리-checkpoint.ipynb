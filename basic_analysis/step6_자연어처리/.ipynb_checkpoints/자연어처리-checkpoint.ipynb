{
 "cells": [
  {
   "cell_type": "code",
   "execution_count": 4,
   "metadata": {},
   "outputs": [],
   "source": [
    "# 꼬꼬마 모듈\n",
    "from konlpy.tag import Kkma\n",
    "kkma = Kkma()"
   ]
  },
  {
   "cell_type": "code",
   "execution_count": 6,
   "metadata": {},
   "outputs": [],
   "source": [
    "test_txt ='''\n",
    "미소카츠 (된장소스 커틀릿)「돈까스」 와 된장의 걸작이라 할수있는 \n",
    "「나고야 붉은 된장 소스」가 절묘하게 조화된 미소카츠는 일본 \n",
    "융합문화의 기원지라 할수 있는 나고야의 대표적인 음식으로서 \n",
    "나고야 하면 미소카츠!! 달짝지근한 된장소스를 드셔보시면 의외로 \n",
    "거부감이 없고, 부드러운 맛에 놀라시고 감탄 하시는 분들이 많은 듯 \n",
    "합니다 원래 예전의 포장마차에서 「도테니 (내장을 붉은 된장으로\n",
    "양념한뒤 삶은 요리」의 국물에 쿠시카츠(커틀릿 꼬치)를 찍어 먹던것이 \n",
    "기원입니다 일본에 오시면 역사깊은 미소카츠를 야바톤에서 꼭 드셔 보세요.\n",
    "'''"
   ]
  },
  {
   "cell_type": "code",
   "execution_count": 7,
   "metadata": {},
   "outputs": [
    {
     "name": "stdout",
     "output_type": "stream",
     "text": [
      "3 \n",
      " ['미소 카 츠 ( 된장 소스 커틀릿)「 돈까스」 와 된장의 걸작이라 할 수 있는 「 나고야 붉은 된장 소스」 가 절묘하게 조화된 미소 카 츠는 일본 융합문화의 기원 지라 할 수 있는 나고야의 대표적인 음식으로서 나고야 하면 미소 카 츠!! 달짝지근한 된장 소스를 드셔 보시면 의외로 거부감이 없고, 부드러운 맛에 놀라시고 감탄 하시는 분들이 많은 듯 합니다', '원래 예전의 포장마차에서 「도 테니 ( 내장을 붉은 된장으로 양념한 뒤 삶은 요리」 의 국물에 쿠 시 카 츠( 커틀릿 꼬치 )를 찍어 먹던 것이 기원입니다', '일본에 오시면 역사 깊은 미소 카 츠를 야 바톤에서 꼭 드셔 보세요.']\n"
     ]
    }
   ],
   "source": [
    "# 문장 sentences 분석\n",
    "tmp = kkma.sentences(test_txt)\n",
    "print(len(tmp),'\\n',tmp)"
   ]
  },
  {
   "cell_type": "code",
   "execution_count": 9,
   "metadata": {},
   "outputs": [
    {
     "name": "stdout",
     "output_type": "stream",
     "text": [
      "['미소', '미소카츠', '카', '츠', '된장', '된장소스', '소스', '커틀릿', '돈까스', '걸작', '수', '나고야', '조화', '일본', '융합', '융합문화', '문화', '기원', '기원지라', '지라', '대표적', '음식', '하면', '거부감', '맛', '감탄', '분', '듯', '예전', '포장마차', '터', '내장', '양념', '뒤', '삶', '요리', '의', '국물', '시', '시카츠', '꼬치', '역사', '야', '야바톤', '바톤']\n"
     ]
    }
   ],
   "source": [
    "# 명사(nouns) 분석\n",
    "print(kkma.nouns(test_txt))"
   ]
  },
  {
   "cell_type": "code",
   "execution_count": 11,
   "metadata": {},
   "outputs": [
    {
     "name": "stdout",
     "output_type": "stream",
     "text": [
      "[('미소', 'NNG'), ('카', 'NNG'), ('츠', 'UN'), ('(', 'SS'), ('된장', 'NNG'), ('소스', 'NNG'), ('커틀릿', 'NNG'), (')', 'SS'), ('「', 'SS'), ('돈까스', 'NNG'), ('」', 'SS'), ('오', 'VV'), ('아', 'ECS'), ('된장', 'NNG'), ('의', 'JKG'), ('걸작', 'NNG'), ('이', 'VCP'), ('라', 'ECD'), ('하', 'VV'), ('ㄹ', 'ETD'), ('수', 'NNB'), ('있', 'VV'), ('는', 'ETD'), ('「', 'SS'), ('나고야', 'NNG'), ('붉', 'VA'), ('은', 'ETD'), ('된장', 'NNG'), ('소스', 'NNG'), ('」', 'SS'), ('가', 'VV'), ('아', 'ECS'), ('절묘', 'XR'), ('하', 'XSA'), ('게', 'ECD'), ('조화', 'NNG'), ('되', 'XSV'), ('ㄴ', 'ETD'), ('미소', 'NNG'), ('카', 'NNG'), ('츠', 'UN'), ('는', 'JX'), ('일본', 'NNG'), ('융합', 'NNG'), ('문화', 'NNG'), ('의', 'JKG'), ('기원', 'NNG'), ('지라', 'NNG'), ('하', 'VV'), ('ㄹ', 'ETD'), ('수', 'NNB'), ('있', 'VV'), ('는', 'ETD'), ('나고야', 'NNG'), ('의', 'JKG'), ('대표적', 'NNG'), ('이', 'VCP'), ('ㄴ', 'ETD'), ('음식', 'NNG'), ('으로서', 'JKM'), ('나고야', 'NNG'), ('하면', 'NNP'), ('미소', 'NNG'), ('카', 'NNG'), ('츠', 'UN'), ('!!', 'SW'), ('달짝지근', 'XR'), ('하', 'XSA'), ('ㄴ', 'ETD'), ('된장', 'NNG'), ('소스', 'NNG'), ('를', 'JKO'), ('드시', 'VV'), ('어', 'ECS'), ('보시', 'VV'), ('면', 'ECE'), ('의외로', 'MAG'), ('거부감', 'NNG'), ('이', 'JKS'), ('없', 'VA'), ('고', 'ECE'), (',', 'SP'), ('부드럽', 'VA'), ('ㄴ', 'ETD'), ('맛', 'NNG'), ('에', 'JKM'), ('놀라', 'VV'), ('시', 'EPH'), ('고', 'ECE'), ('감탄', 'NNG'), ('하', 'VV'), ('시', 'EPH'), ('는', 'ETD'), ('분', 'NNG'), ('들', 'XSN'), ('이', 'JKS'), ('많', 'VA'), ('은', 'ETD'), ('듯', 'NNB'), ('하', 'VV'), ('ㅂ니다', 'EFN'), ('원래', 'MAG'), ('예전', 'NNG'), ('의', 'JKG'), ('포장마차', 'NNG'), ('에서', 'JKM'), ('「', 'SS'), ('도', 'JX'), ('터', 'NNB'), ('이', 'VCP'), ('니', 'ECD'), ('(', 'SS'), ('내장', 'NNG'), ('을', 'JKO'), ('붉', 'VA'), ('은', 'ETD'), ('된장', 'NNG'), ('으로', 'JKM'), ('양념', 'NNG'), ('하', 'XSV'), ('ㄴ', 'ETD'), ('뒤', 'NNG'), ('삶', 'NNG'), ('은', 'JX'), ('요리', 'NNG'), ('」', 'SS'), ('의', 'NNG'), ('국물', 'NNG'), ('에', 'JKM'), ('쿠', 'ECE'), ('시', 'NNG'), ('카', 'NNG'), ('츠', 'UN'), ('(', 'SS'), ('커틀릿', 'NNG'), ('꼬치', 'NNG'), (')', 'SS'), ('를', 'JKO'), ('찍', 'VV'), ('어', 'ECD'), ('먹', 'VV'), ('더', 'EPT'), ('ㄴ', 'ETD'), ('것', 'NNB'), ('이', 'JKS'), ('기원', 'NNG'), ('이', 'VCP'), ('ㅂ니다', 'EFN'), ('일본', 'NNG'), ('에', 'JKM'), ('오시', 'VV'), ('면', 'ECE'), ('역사', 'NNG'), ('깊', 'VA'), ('은', 'ETD'), ('미소', 'NNG'), ('카', 'NNG'), ('츠', 'UN'), ('를', 'JKO'), ('야', 'NNG'), ('바톤', 'NNG'), ('에서', 'JKM'), ('꼭', 'MAG'), ('드시', 'VV'), ('어', 'ECS'), ('보', 'VXV'), ('세요', 'EFN'), ('.', 'SF')]\n"
     ]
    }
   ],
   "source": [
    "# 한글은 형태소 분석(pos)\n",
    "print(kkma.pos(test_txt))"
   ]
  },
  {
   "cell_type": "code",
   "execution_count": null,
   "metadata": {},
   "outputs": [],
   "source": []
  }
 ],
 "metadata": {
  "kernelspec": {
   "display_name": "Python 3",
   "language": "python",
   "name": "python3"
  },
  "language_info": {
   "codemirror_mode": {
    "name": "ipython",
    "version": 3
   },
   "file_extension": ".py",
   "mimetype": "text/x-python",
   "name": "python",
   "nbconvert_exporter": "python",
   "pygments_lexer": "ipython3",
   "version": "3.6.5"
  }
 },
 "nbformat": 4,
 "nbformat_minor": 2
}
