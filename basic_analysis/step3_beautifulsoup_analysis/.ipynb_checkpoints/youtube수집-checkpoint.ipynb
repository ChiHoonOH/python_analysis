{
 "cells": [
  {
   "cell_type": "markdown",
   "metadata": {},
   "source": [
    "### 유튜브 수집\n",
    "\n",
    "- 대표적인 영상 서비스\n",
    "- 구글 제공\n",
    "- 특정 현상, 주제, 관심 등에 대한 다양한 영상과 댓글들이 전 세계적으로 발생하여, 이를 통해 해당 주제에 대한  여론을 예측\n",
    "- 방법\n",
    "> 기본 파일럿으로 오늘데이터만 수집\n",
    "> 접속방법\n",
    "> - https://www.youtube.com/results?search_query=bts&sp=EgQIAhAB\n",
    "> - 썸네일, 링크, 제목, 작성자, 조회수 및 시간은 검토해서 세부 정보에서 좀 더 디테일하게 나오면 수집\n",
    "> - 세부 영상 정보로 가서는 좋아요, 싫어요, 작성일(시간), 작성자 정보 최대한, 댓글(작성자, 시간, 내용) 수집 \n",
    "- 사용 솔루션\n",
    "> - selenium 사용 : ajax 통신 사용(스크롤 이벤트 처리)\n",
    "> - 고스트 브라우저를 활용하여 리눅스 운영 검토\n",
    "> - 디비 입력 처리(차후 자동화 -> 장고의 모델 처리 방식 응용(orm 방식 처리) )\n",
    "> - GUI 솔루션 형태 검토 (클라이언트 배포판) <-> API 서버가 존재해야함(Flask 등장)"
   ]
  },
  {
   "cell_type": "code",
   "execution_count": 1,
   "metadata": {},
   "outputs": [],
   "source": [
    "from selenium import webdriver as wd"
   ]
  },
  {
   "cell_type": "code",
   "execution_count": null,
   "metadata": {},
   "outputs": [],
   "source": [
    "# 기본 접속\n",
    "driver = wd.Chrome('./data/chrom')"
   ]
  }
 ],
 "metadata": {
  "kernelspec": {
   "display_name": "Python 3",
   "language": "python",
   "name": "python3"
  },
  "language_info": {
   "codemirror_mode": {
    "name": "ipython",
    "version": 3
   },
   "file_extension": ".py",
   "mimetype": "text/x-python",
   "name": "python",
   "nbconvert_exporter": "python",
   "pygments_lexer": "ipython3",
   "version": "3.6.5"
  }
 },
 "nbformat": 4,
 "nbformat_minor": 2
}
