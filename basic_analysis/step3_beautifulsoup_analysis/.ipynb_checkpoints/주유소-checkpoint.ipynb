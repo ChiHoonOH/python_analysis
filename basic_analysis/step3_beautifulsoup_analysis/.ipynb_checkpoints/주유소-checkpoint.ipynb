{
 "cells": [
  {
   "cell_type": "code",
   "execution_count": null,
   "metadata": {},
   "outputs": [],
   "source": [
    "# 파일 다 불러오기 주유소\n",
    "# 합치기\n",
    "# max(10), min(10) 자르기\n",
    "# 부산 gis 로드\n",
    "# 휘발유 max(10), min(10) 지도 시각화"
   ]
  },
  {
   "cell_type": "code",
   "execution_count": 15,
   "metadata": {},
   "outputs": [
    {
     "ename": "ModuleNotFoundError",
     "evalue": "No module named 'custom'",
     "output_type": "error",
     "traceback": [
      "\u001b[1;31m---------------------------------------------------------------------------\u001b[0m",
      "\u001b[1;31mModuleNotFoundError\u001b[0m                       Traceback (most recent call last)",
      "\u001b[1;32m<ipython-input-15-7fa3cf960490>\u001b[0m in \u001b[0;36m<module>\u001b[1;34m()\u001b[0m\n\u001b[0;32m      2\u001b[0m \u001b[1;32mimport\u001b[0m \u001b[0mpandas\u001b[0m \u001b[1;32mas\u001b[0m \u001b[0mpd\u001b[0m\u001b[1;33m\u001b[0m\u001b[0m\n\u001b[0;32m      3\u001b[0m \u001b[1;32mfrom\u001b[0m \u001b[0mglob\u001b[0m \u001b[1;32mimport\u001b[0m \u001b[0mglob\u001b[0m\u001b[1;33m\u001b[0m\u001b[0m\n\u001b[1;32m----> 4\u001b[1;33m \u001b[1;32mimport\u001b[0m \u001b[0mcustom\u001b[0m \u001b[1;32mas\u001b[0m \u001b[0mcus\u001b[0m\u001b[1;33m\u001b[0m\u001b[0m\n\u001b[0m",
      "\u001b[1;31mModuleNotFoundError\u001b[0m: No module named 'custom'"
     ]
    }
   ],
   "source": [
    "#glob -> 해당 path의 파일들의 path 불러오기 \n",
    "import pandas as pd\n",
    "from glob import glob\n",
    "import custom as cus"
   ]
  },
  {
   "cell_type": "code",
   "execution_count": 9,
   "metadata": {},
   "outputs": [],
   "source": [
    "download_files = glob('C:/Users/ChiHoon/Downloads/지역*.xls')"
   ]
  },
  {
   "cell_type": "code",
   "execution_count": 10,
   "metadata": {},
   "outputs": [
    {
     "data": {
      "text/plain": [
       "['C:/Users/ChiHoon/Downloads\\\\지역_위치별(주유소) (1).xls',\n",
       " 'C:/Users/ChiHoon/Downloads\\\\지역_위치별(주유소) (10).xls',\n",
       " 'C:/Users/ChiHoon/Downloads\\\\지역_위치별(주유소) (11).xls',\n",
       " 'C:/Users/ChiHoon/Downloads\\\\지역_위치별(주유소) (12).xls',\n",
       " 'C:/Users/ChiHoon/Downloads\\\\지역_위치별(주유소) (13).xls',\n",
       " 'C:/Users/ChiHoon/Downloads\\\\지역_위치별(주유소) (14).xls',\n",
       " 'C:/Users/ChiHoon/Downloads\\\\지역_위치별(주유소) (15).xls',\n",
       " 'C:/Users/ChiHoon/Downloads\\\\지역_위치별(주유소) (2).xls',\n",
       " 'C:/Users/ChiHoon/Downloads\\\\지역_위치별(주유소) (3).xls',\n",
       " 'C:/Users/ChiHoon/Downloads\\\\지역_위치별(주유소) (4).xls',\n",
       " 'C:/Users/ChiHoon/Downloads\\\\지역_위치별(주유소) (5).xls',\n",
       " 'C:/Users/ChiHoon/Downloads\\\\지역_위치별(주유소) (6).xls',\n",
       " 'C:/Users/ChiHoon/Downloads\\\\지역_위치별(주유소) (7).xls',\n",
       " 'C:/Users/ChiHoon/Downloads\\\\지역_위치별(주유소) (8).xls',\n",
       " 'C:/Users/ChiHoon/Downloads\\\\지역_위치별(주유소) (9).xls',\n",
       " 'C:/Users/ChiHoon/Downloads\\\\지역_위치별(주유소).xls']"
      ]
     },
     "execution_count": 10,
     "metadata": {},
     "output_type": "execute_result"
    }
   ],
   "source": [
    "download_files"
   ]
  },
  {
   "cell_type": "code",
   "execution_count": 11,
   "metadata": {},
   "outputs": [],
   "source": [
    "# 데이터 로드 하기전에는 특히 여러 데이터 로드 하기 전에는 한 데이터에 대해서 점검하고 불러 오는게 좋음.\n",
    "# 아니면 엑셀파일을 읽어보던가."
   ]
  },
  {
   "cell_type": "code",
   "execution_count": 12,
   "metadata": {},
   "outputs": [],
   "source": [
    "# 원래라면 \n",
    "#pd.read_excel('경로1') 2 3 하나 하나 불러와서 해야하니, 애초에 목록을 저장해두고 for문을 이용해서 작업한다.\n",
    "file_list=[]\n",
    "for file in download_files:\n",
    "    tmp = pd.read_excel(file,header=2)\n",
    "    file_list.append(tmp)"
   ]
  },
  {
   "cell_type": "code",
   "execution_count": 13,
   "metadata": {},
   "outputs": [
    {
     "data": {
      "text/plain": [
       "[       지역                  상호                          주소      상표  \\\n",
       " 0   부산광역시            훼미리알뜰주유소          부산 금정구 두실로 2 (남산동)   알뜰주유소   \n",
       " 1   부산광역시             청룡명품주유소         부산광역시 금정구  중앙대로2130  현대오일뱅크   \n",
       " 2   부산광역시           은마석유노포주유소      부산 금정구 중앙대로 2191 (노포동)   GS칼텍스   \n",
       " 3   부산광역시      에스원에너지(주)금강주유소            부산 금정구 중앙대로 1972   SK에너지   \n",
       " 4   부산광역시               지현주유소    부산광역시 금정구 중앙대로 2044(남산동)   S-OIL   \n",
       " 5   부산광역시     ㈜천일에너지 천일주유소서동점         부산 금정구 반송로 364 (서동)  현대오일뱅크   \n",
       " 6   부산광역시              금샘로주유소        부산 금정구 금샘로 460 (남산동)   SK에너지   \n",
       " 7   부산광역시             금두꺼비주유소     부산광역시 금정구  부곡로 67 (부곡동)  현대오일뱅크   \n",
       " 8   부산광역시               동양주유소     부산광역시 금정구  반송로 391 (서동)  현대오일뱅크   \n",
       " 9   부산광역시               신화주유소              부산 금정구 금강로 721  현대오일뱅크   \n",
       " 10  부산광역시               양지주유소         부산 금정구 반송로 400 (서동)   GS칼텍스   \n",
       " 11  부산광역시               금사주유소        부산 금정구 반송로 420 (금사동)   SK에너지   \n",
       " 12  부산광역시    광신석유(주)직영경부고속주유소   부산 금정구 중앙대로1720번길 7 (부곡동)   SK에너지   \n",
       " 13  부산광역시          거북이주유소(SK)      부산 금정구 중앙대로 1672 (부곡동)   SK에너지   \n",
       " 14  부산광역시  현대오일뱅크㈜ 직영 부곡셀프주유소      부산 금정구 중앙대로 1597 (부곡동)  현대오일뱅크   \n",
       " 15  부산광역시    한솔유화(주) 직영 한길주유소      부산 금정구 중앙대로 1646 (부곡동)  현대오일뱅크   \n",
       " 16  부산광역시  현대오일뱅크㈜ 직영 금정셀프주유소      부산 금정구 중앙대로 1664 (부곡동)  현대오일뱅크   \n",
       " 17  부산광역시               동진주유소      부산 금정구 금정로 216,  (구서동)   SK에너지   \n",
       " 18  부산광역시              식물원주유소         부산 금정구 금샘로 21 (장전동)   S-OIL   \n",
       " 19  부산광역시              금정산주유소    부산광역시 금정구  금샘로 399 (구서동)   SK에너지   \n",
       " 20  부산광역시               석2주유소        부산 금정구 식물원로 21 (장전동)   GS칼텍스   \n",
       " 21  부산광역시         지에스칼텍스신창주유소  부산광역시 금정구  중앙대로 1698 (부곡동)   GS칼텍스   \n",
       " 22  부산광역시              새석대주유소        부산 금정구 반송로 463 (금사동)   S-OIL   \n",
       " 23  부산광역시               영풍주유소      부산 금정구 중앙대로 1782 (부곡동)   GS칼텍스   \n",
       " 24  부산광역시                  국제      부산 금정구 중앙대로 1756 (부곡동)   SK에너지   \n",
       " \n",
       "             전화번호 셀프여부 고급휘발유   휘발유    경유  실내등유  \n",
       " 0   051-582-5882    N     -  1613  1428     -  \n",
       " 1   051-508-5150    N     -  1613  1423     -  \n",
       " 2   051-508-1645    Y     -  1618  1438  1050  \n",
       " 3   051-513-2700    N     -  1620  1428     -  \n",
       " 4   051-517-5149    Y     -  1620  1428     -  \n",
       " 5   051-532-5157    N     -  1628  1428     -  \n",
       " 6   051-517-0220    Y  1898  1638  1438     -  \n",
       " 7   051-583-6433    Y     -  1648  1448     -  \n",
       " 8   051-523-1214    Y     -  1648  1448   990  \n",
       " 9   051-515-1997    Y     -  1648  1458  1100  \n",
       " 10  051-529-5151    Y     -  1648  1448     -  \n",
       " 11  051-524-6642    N  2108  1649  1459     -  \n",
       " 12  051-517-6011    Y  1950  1655  1465  1030  \n",
       " 13  051-516-5151    Y     -  1658  1468     -  \n",
       " 14  051-516-2888    Y  1898  1658  1468     -  \n",
       " 15  051-581-0875    N     -  1658  1468   990  \n",
       " 16  051-583-8951    Y     -  1658  1468     -  \n",
       " 17  051-515-5007    Y  1878  1658  1468  1060  \n",
       " 18  051-515-5189    N     -  1669  1469  1020  \n",
       " 19  051-517-5472    N     -  1697  1507  1050  \n",
       " 20  051-581-1370    N     -  1709  1509  1030  \n",
       " 21  051-581-1212    N  1978  1728  1538  1000  \n",
       " 22  051-527-5142    N     -  1757  1557  1050  \n",
       " 23  051-512-3301    N  1999  1789  1599   945  \n",
       " 24  051-516-8516    N  2108  1899  1699  1108  ,\n",
       "        지역                상호                          주소      상표          전화번호  \\\n",
       " 0   부산광역시   (주)우양네트웍스 고려주유소       부산 서구 대영로 88 (동대신동1가)   S-OIL  051-255-1667   \n",
       " 1   부산광역시           스타2 주유소       부산광역시 서구 원양로 260(암남동)    자가상표  051-243-6661   \n",
       " 2   부산광역시     (주)디시에너지 대신지점       부산 서구 대영로 91 (동대신동2가)  현대오일뱅크  051-242-8144   \n",
       " 3   부산광역시    (주)디씨에너지운동장주유소     부산 서구 보수대로 220 (동대신동3가)  현대오일뱅크  051-243-0444   \n",
       " 4   부산광역시   동방석유(주)직영 모든주유소     부산광역시 서구  감천로 227 (암남동)   SK에너지  051-244-5151   \n",
       " 5   부산광역시         남항대교셀프주유소        부산 서구 충무대로 108 (암남동)    자가상표  051-231-5145   \n",
       " 6   부산광역시             대성주유소   부산광역시 서구  충무대로 126 (남부민동)   GS칼텍스  051-257-2601   \n",
       " 7   부산광역시  CJ대한통운(주)우양냉장주유소   부산광역시 서구  충무대로 240 (남부민동)   S-OIL  051-253-1070   \n",
       " 8   부산광역시     남부주유소 (송도아랫길)       부산 서구 충무대로 150 (남부민동)   GS칼텍스  051-255-9528   \n",
       " 9   부산광역시   (주)부영에너지직영신일주유소      부산 서구 구덕로 273 (서대신동1가)   SK에너지  051-256-3929   \n",
       " 10  부산광역시             고려주유소         부산 서구 원양로 208 (암남동)   S-OIL  051-253-3118   \n",
       " 11  부산광역시             보배주유소  부산광역시 서구  대신공원로 1 (동대신동3가)   SK에너지  051-254-6077   \n",
       " \n",
       "    셀프여부 고급휘발유   휘발유    경유  실내등유  \n",
       " 0     N     -  1608  1407  1100  \n",
       " 1     N     -  1609  1399  1000  \n",
       " 2     Y     -  1628  1428     -  \n",
       " 3     Y     -  1628  1428  1000  \n",
       " 4     Y     -  1635  1435  1220  \n",
       " 5     Y     -  1638  1438  1050  \n",
       " 6     Y  1848  1638  1438     -  \n",
       " 7     Y  1858  1638  1438  1000  \n",
       " 8     N     -  1648  1448  1050  \n",
       " 9     Y     -  1658  1458     -  \n",
       " 10    N     -  1668  1468  1050  \n",
       " 11    N     -  1698  1498  1100  ]"
      ]
     },
     "execution_count": 13,
     "metadata": {},
     "output_type": "execute_result"
    }
   ],
   "source": [
    "file_list[:2]"
   ]
  },
  {
   "cell_type": "code",
   "execution_count": 14,
   "metadata": {},
   "outputs": [
    {
     "data": {
      "text/html": [
       "<div>\n",
       "<style scoped>\n",
       "    .dataframe tbody tr th:only-of-type {\n",
       "        vertical-align: middle;\n",
       "    }\n",
       "\n",
       "    .dataframe tbody tr th {\n",
       "        vertical-align: top;\n",
       "    }\n",
       "\n",
       "    .dataframe thead th {\n",
       "        text-align: right;\n",
       "    }\n",
       "</style>\n",
       "<table border=\"1\" class=\"dataframe\">\n",
       "  <thead>\n",
       "    <tr style=\"text-align: right;\">\n",
       "      <th></th>\n",
       "      <th>지역</th>\n",
       "      <th>상호</th>\n",
       "      <th>주소</th>\n",
       "      <th>상표</th>\n",
       "      <th>전화번호</th>\n",
       "      <th>셀프여부</th>\n",
       "      <th>고급휘발유</th>\n",
       "      <th>휘발유</th>\n",
       "      <th>경유</th>\n",
       "      <th>실내등유</th>\n",
       "    </tr>\n",
       "  </thead>\n",
       "  <tbody>\n",
       "    <tr>\n",
       "      <th>0</th>\n",
       "      <td>부산광역시</td>\n",
       "      <td>훼미리알뜰주유소</td>\n",
       "      <td>부산 금정구 두실로 2 (남산동)</td>\n",
       "      <td>알뜰주유소</td>\n",
       "      <td>051-582-5882</td>\n",
       "      <td>N</td>\n",
       "      <td>-</td>\n",
       "      <td>1613</td>\n",
       "      <td>1428</td>\n",
       "      <td>-</td>\n",
       "    </tr>\n",
       "    <tr>\n",
       "      <th>1</th>\n",
       "      <td>부산광역시</td>\n",
       "      <td>청룡명품주유소</td>\n",
       "      <td>부산광역시 금정구  중앙대로2130</td>\n",
       "      <td>현대오일뱅크</td>\n",
       "      <td>051-508-5150</td>\n",
       "      <td>N</td>\n",
       "      <td>-</td>\n",
       "      <td>1613</td>\n",
       "      <td>1423</td>\n",
       "      <td>-</td>\n",
       "    </tr>\n",
       "    <tr>\n",
       "      <th>2</th>\n",
       "      <td>부산광역시</td>\n",
       "      <td>은마석유노포주유소</td>\n",
       "      <td>부산 금정구 중앙대로 2191 (노포동)</td>\n",
       "      <td>GS칼텍스</td>\n",
       "      <td>051-508-1645</td>\n",
       "      <td>Y</td>\n",
       "      <td>-</td>\n",
       "      <td>1618</td>\n",
       "      <td>1438</td>\n",
       "      <td>1050</td>\n",
       "    </tr>\n",
       "    <tr>\n",
       "      <th>3</th>\n",
       "      <td>부산광역시</td>\n",
       "      <td>에스원에너지(주)금강주유소</td>\n",
       "      <td>부산 금정구 중앙대로 1972</td>\n",
       "      <td>SK에너지</td>\n",
       "      <td>051-513-2700</td>\n",
       "      <td>N</td>\n",
       "      <td>-</td>\n",
       "      <td>1620</td>\n",
       "      <td>1428</td>\n",
       "      <td>-</td>\n",
       "    </tr>\n",
       "    <tr>\n",
       "      <th>4</th>\n",
       "      <td>부산광역시</td>\n",
       "      <td>지현주유소</td>\n",
       "      <td>부산광역시 금정구 중앙대로 2044(남산동)</td>\n",
       "      <td>S-OIL</td>\n",
       "      <td>051-517-5149</td>\n",
       "      <td>Y</td>\n",
       "      <td>-</td>\n",
       "      <td>1620</td>\n",
       "      <td>1428</td>\n",
       "      <td>-</td>\n",
       "    </tr>\n",
       "  </tbody>\n",
       "</table>\n",
       "</div>"
      ],
      "text/plain": [
       "      지역              상호                        주소      상표          전화번호 셀프여부  \\\n",
       "0  부산광역시        훼미리알뜰주유소        부산 금정구 두실로 2 (남산동)   알뜰주유소  051-582-5882    N   \n",
       "1  부산광역시         청룡명품주유소       부산광역시 금정구  중앙대로2130  현대오일뱅크  051-508-5150    N   \n",
       "2  부산광역시       은마석유노포주유소    부산 금정구 중앙대로 2191 (노포동)   GS칼텍스  051-508-1645    Y   \n",
       "3  부산광역시  에스원에너지(주)금강주유소          부산 금정구 중앙대로 1972   SK에너지  051-513-2700    N   \n",
       "4  부산광역시           지현주유소  부산광역시 금정구 중앙대로 2044(남산동)   S-OIL  051-517-5149    Y   \n",
       "\n",
       "  고급휘발유   휘발유    경유  실내등유  \n",
       "0     -  1613  1428     -  \n",
       "1     -  1613  1423     -  \n",
       "2     -  1618  1438  1050  \n",
       "3     -  1620  1428     -  \n",
       "4     -  1620  1428     -  "
      ]
     },
     "execution_count": 14,
     "metadata": {},
     "output_type": "execute_result"
    }
   ],
   "source": [
    "# for file in file_list:\n",
    "#     pd.concat(file) \n",
    "# 이런 힘겨운 일 안해도 됨\n",
    "gas_station = pd.concat(file_list)\n",
    "gas_station.head()"
   ]
  },
  {
   "cell_type": "code",
   "execution_count": null,
   "metadata": {},
   "outputs": [],
   "source": [
    "custom"
   ]
  }
 ],
 "metadata": {
  "kernelspec": {
   "display_name": "Python 3",
   "language": "python",
   "name": "python3"
  },
  "language_info": {
   "codemirror_mode": {
    "name": "ipython",
    "version": 3
   },
   "file_extension": ".py",
   "mimetype": "text/x-python",
   "name": "python",
   "nbconvert_exporter": "python",
   "pygments_lexer": "ipython3",
   "version": "3.6.5"
  }
 },
 "nbformat": 4,
 "nbformat_minor": 2
}
