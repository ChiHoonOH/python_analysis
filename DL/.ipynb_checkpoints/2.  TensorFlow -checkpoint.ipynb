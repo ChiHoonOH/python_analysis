{
 "cells": [
  {
   "cell_type": "markdown",
   "metadata": {},
   "source": [
    "### TensorFlow\n",
    "\n",
    "- 구글이 오픈소스로 공개한 머신러닝 라이브러리    \n",
    "- 딥러닝 뿐만 아니라 머신러닝에도 사용된다.    \n",
    "\n",
    "- c++ 개발 되어 있음  \n",
    "- 대규모 숫자 계산을 해주는 범용 라이브러리  \n",
    "- tensor 다차원 행렬 계산을 의미  \n",
    "- 상용적 사용(OK, Apache 2.0 라이센스 사용)  \n",
    "- 자료가 많고, 커뮤니티도 활발해서 가장 많이 사용  \n",
    "- 스타일  \n",
    "> 계산식 설계 => 데이터를 넣으면서 실행하는 구조\n",
    "- 통상적으로 영상처리시 openCV와 병행  \n",
    "\n",
    "- www.tensorflow.org  \n",
    "- pip install tensorflow  \n",
    "- 파이썬에서 하드한 연산을 작업을 수행하는 것이 아니라, 파이썬 밖에서 동작하는 특성을 가짐\n",
    "-> 그래프(객체) 가 담당\n",
    "\n"
   ]
  },
  {
   "cell_type": "code",
   "execution_count": 2,
   "metadata": {},
   "outputs": [],
   "source": [
    "import tensorflow as tf"
   ]
  },
  {
   "cell_type": "code",
   "execution_count": 3,
   "metadata": {},
   "outputs": [
    {
     "data": {
      "text/plain": [
       "b'hello'"
      ]
     },
     "execution_count": 3,
     "metadata": {},
     "output_type": "execute_result"
    }
   ],
   "source": [
    "sess = tf.Session()\n",
    "tmp = tf.constant('hello')\n",
    "sess.run(tmp)"
   ]
  },
  {
   "cell_type": "markdown",
   "metadata": {},
   "source": [
    "### 텐서플로우 기본 \n",
    "\n",
    "- 핵심 데이터의 구조\n",
    "> 상수 : Constant   \n",
    "> 변수 : Variable    \n",
    "> 플레이스홀더(데이터를 담는 그릇) : Placeholder    "
   ]
  },
  {
   "cell_type": "markdown",
   "metadata": {},
   "source": [
    "### 텐서플로우를 이용한 간단한 계산\n",
    "\n",
    "- 덧셈 처리"
   ]
  },
  {
   "cell_type": "code",
   "execution_count": 4,
   "metadata": {},
   "outputs": [],
   "source": [
    "# 1. tensorflow 모듈 가져오기\n",
    "import tensorflow as tf"
   ]
  },
  {
   "cell_type": "code",
   "execution_count": 5,
   "metadata": {},
   "outputs": [
    {
     "name": "stdout",
     "output_type": "stream",
     "text": [
      "Tensor(\"Const_1:0\", shape=(), dtype=int32) Tensor(\"Const_2:0\", shape=(), dtype=int32)\n"
     ]
    }
   ],
   "source": [
    "# 2. 덧셈에 필요한 상수 정의\n",
    "a = tf.constant(1) # 상수, tensor라고 뜨기도 하네\n",
    "b = tf.constant(2)\n",
    "print(a,b)"
   ]
  },
  {
   "cell_type": "code",
   "execution_count": 6,
   "metadata": {},
   "outputs": [
    {
     "name": "stdout",
     "output_type": "stream",
     "text": [
      "Tensor(\"add:0\", shape=(), dtype=int32)\n"
     ]
    }
   ],
   "source": [
    "# 3. 계산식 정의(덧셈)\n",
    "add_operation = a + b # 그래프 객체\n",
    "print(add_operation)"
   ]
  },
  {
   "cell_type": "code",
   "execution_count": 7,
   "metadata": {},
   "outputs": [],
   "source": [
    "# 4. 실제 연산 수행\n",
    "# 4-1 세션 시작\n",
    "sess = tf.Session()"
   ]
  },
  {
   "cell_type": "markdown",
   "metadata": {},
   "source": [
    "- 텐서 플로우는 덧셈 이라는 계산을 정의만 할 뿐  \n",
    "- add_operation = a + b 계산이 정의된 텐서일뿐  \n",
    "- 덧셈의 결과로 나오는 것은 상수가 아니라 데이터 플로우 그래프(Data Flow Graph) 객체라고 정의  "
   ]
  },
  {
   "cell_type": "code",
   "execution_count": 8,
   "metadata": {},
   "outputs": [
    {
     "data": {
      "text/plain": [
       "(3, numpy.int32)"
      ]
     },
     "execution_count": 8,
     "metadata": {},
     "output_type": "execute_result"
    }
   ],
   "source": [
    "# 4-2. 연산 수행\n",
    "# 계산 처리를 '그래프'라는 객체로 구축을 하고, 이런 그래프를 실행하는 흐름\n",
    "# 이런 그래프를 실행하는 흐름\n",
    "res = sess.run(add_operation)# 그래프 객체 실행\n",
    "res, type(res)\n"
   ]
  },
  {
   "cell_type": "code",
   "execution_count": 9,
   "metadata": {},
   "outputs": [],
   "source": [
    "sess.close()"
   ]
  },
  {
   "cell_type": "markdown",
   "metadata": {},
   "source": [
    "### 덧셈, 곱셈 추가\n",
    "a : 2,  \n",
    "b: 3,  \n",
    "c: 4,  \n",
    "식   \n",
    "=> a+b * c  \n",
    "=>(a+b) * c  "
   ]
  },
  {
   "cell_type": "code",
   "execution_count": 16,
   "metadata": {},
   "outputs": [],
   "source": [
    "a = tf.constant(2)\n",
    "b = tf.constant(3)\n",
    "c = tf.constant(4)"
   ]
  },
  {
   "cell_type": "code",
   "execution_count": 12,
   "metadata": {},
   "outputs": [],
   "source": [
    "add_1 = a + b *c\n",
    "add_2 = (a+b)*c"
   ]
  },
  {
   "cell_type": "code",
   "execution_count": 11,
   "metadata": {},
   "outputs": [],
   "source": [
    "sess = tf.Session()"
   ]
  },
  {
   "cell_type": "code",
   "execution_count": 13,
   "metadata": {},
   "outputs": [],
   "source": [
    "res1 = sess.run(add_1)\n",
    "res2 = sess.run(add_2)"
   ]
  },
  {
   "cell_type": "code",
   "execution_count": 14,
   "metadata": {},
   "outputs": [
    {
     "name": "stdout",
     "output_type": "stream",
     "text": [
      "14 20\n"
     ]
    }
   ],
   "source": [
    "print(res1, res2)"
   ]
  },
  {
   "cell_type": "code",
   "execution_count": 15,
   "metadata": {},
   "outputs": [],
   "source": [
    "sess.close()"
   ]
  },
  {
   "cell_type": "code",
   "execution_count": 30,
   "metadata": {},
   "outputs": [],
   "source": [
    "########### 변수\n",
    "# 변수 처리에 필요한 상수 정의\n",
    "# 이름이 a인 상수\n",
    "a = tf.constant(120, name='k') #?? name 개념이 잘 이해가 안감. name 으로 호출이 가능하긴하다. 다만 아직 필요성을 느끼지는 못함.\n",
    "b = tf.constant(130, name='b')\n",
    "c = tf.constant(140, name='c')\n"
   ]
  },
  {
   "cell_type": "code",
   "execution_count": 18,
   "metadata": {},
   "outputs": [
    {
     "data": {
      "text/plain": [
       "<tf.Variable 'v:0' shape=() dtype=int32_ref>"
      ]
     },
     "execution_count": 18,
     "metadata": {},
     "output_type": "execute_result"
    }
   ],
   "source": [
    "# 변수(이름이 v인 변수)\n",
    "v = tf.Variable(0,name='v')\n",
    "v"
   ]
  },
  {
   "cell_type": "code",
   "execution_count": 19,
   "metadata": {},
   "outputs": [],
   "source": [
    "# 데이터 플로우 그래프 정의해라.\n",
    "cal_op = a + b + c"
   ]
  },
  {
   "cell_type": "code",
   "execution_count": 20,
   "metadata": {},
   "outputs": [
    {
     "data": {
      "text/plain": [
       "(<tf.Tensor 'Assign:0' shape=() dtype=int32_ref>,\n",
       " <tf.Variable 'v:0' shape=() dtype=int32_ref>)"
      ]
     },
     "execution_count": 20,
     "metadata": {},
     "output_type": "execute_result"
    }
   ],
   "source": [
    "# 변수에 값을 대입\n",
    "assign_op = tf.assign(v, cal_op)\n",
    "assign_op, v"
   ]
  },
  {
   "cell_type": "code",
   "execution_count": 22,
   "metadata": {},
   "outputs": [
    {
     "name": "stdout",
     "output_type": "stream",
     "text": [
      "390\n",
      "390\n",
      "<tf.Variable 'v:0' shape=() dtype=int32_ref>\n",
      "Tensor(\"Assign:0\", shape=(), dtype=int32_ref)\n"
     ]
    }
   ],
   "source": [
    "with tf.Session() as sess:\n",
    "    print(sess.run(assign_op))\n",
    "    print(sess.run(v))\n",
    "    print(v)\n",
    "    print(assign_op)"
   ]
  },
  {
   "cell_type": "markdown",
   "metadata": {},
   "source": [
    "### 플레이스 홀더\n",
    "- 그릇  \n",
    "- 탬플릿 처럼 값을 담을 공간을 만드는 기능을 담당.  \n",
    "- 세션이 실행시 이 그릇에 데이터가 담기게 되고 실행이 되는 구조.  \n",
    "- 디비의 파라미터 넘기는 ?, %s의 느낌.  "
   ]
  },
  {
   "cell_type": "code",
   "execution_count": 23,
   "metadata": {},
   "outputs": [],
   "source": [
    "import tensorflow as tf"
   ]
  },
  {
   "cell_type": "code",
   "execution_count": 24,
   "metadata": {},
   "outputs": [],
   "source": [
    "# 플레이스 홀더 생성\n",
    "a = tf.placeholder(tf.int32, [3])# list 3 => 정수 자료형 3개를 담을 수 있는 그릇."
   ]
  },
  {
   "cell_type": "code",
   "execution_count": 25,
   "metadata": {},
   "outputs": [],
   "source": [
    "# 배열의 모든 구성원을 2배증가 시킨다. 이런 연산을 정의 \n",
    "b = tf.constant(2)"
   ]
  },
  {
   "cell_type": "code",
   "execution_count": 26,
   "metadata": {},
   "outputs": [],
   "source": [
    "# a라는 백터에 b라는 스칼라를 곱한다.\n",
    " \n",
    "x2_op = a * b # 데이터 플로우 그래프"
   ]
  },
  {
   "cell_type": "code",
   "execution_count": 28,
   "metadata": {},
   "outputs": [
    {
     "name": "stdout",
     "output_type": "stream",
     "text": [
      "[2 4 6]\n"
     ]
    }
   ],
   "source": [
    "with tf.Session() as sess:\n",
    "    print(sess.run(x2_op, feed_dict={a:[1,2,3]}))"
   ]
  },
  {
   "cell_type": "markdown",
   "metadata": {},
   "source": [
    "### 배열 데이터가 가변이라면!!\n",
    "\n",
    "- 데이터가 몇개가 들어올지 모르겠다.  "
   ]
  },
  {
   "cell_type": "code",
   "execution_count": 29,
   "metadata": {},
   "outputs": [
    {
     "name": "stdout",
     "output_type": "stream",
     "text": [
      "[2 4 6]\n"
     ]
    }
   ],
   "source": [
    "import tensorflow as tf\n",
    "# 배열의 크기를 None으로 지정하면 가변 처리 가능\n",
    "# 통상적으로 None or -1\n",
    "a = tf.placeholder(tf.int32, [None])\n",
    "b = tf.constant(2)\n",
    " \n",
    "x2_op = a * b\n",
    "with tf.Session() as sess:\n",
    "    print(sess.run(x2_op, feed_dict={a:[1,2,3]}))\n",
    "    print(sess.run(x2_op, feed_dict={a:[1,2,3,4]}))"
   ]
  },
  {
   "cell_type": "code",
   "execution_count": null,
   "metadata": {},
   "outputs": [],
   "source": []
  }
 ],
 "metadata": {
  "kernelspec": {
   "display_name": "Python 3",
   "language": "python",
   "name": "python3"
  },
  "language_info": {
   "codemirror_mode": {
    "name": "ipython",
    "version": 3
   },
   "file_extension": ".py",
   "mimetype": "text/x-python",
   "name": "python",
   "nbconvert_exporter": "python",
   "pygments_lexer": "ipython3",
   "version": "3.6.5"
  }
 },
 "nbformat": 4,
 "nbformat_minor": 2
}
