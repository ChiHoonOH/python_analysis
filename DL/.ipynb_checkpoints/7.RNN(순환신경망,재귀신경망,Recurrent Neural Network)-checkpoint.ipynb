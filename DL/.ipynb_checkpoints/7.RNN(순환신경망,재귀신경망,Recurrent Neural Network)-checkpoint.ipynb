{
 "cells": [
  {
   "cell_type": "markdown",
   "metadata": {},
   "source": [
    "### RNN\n",
    "\n",
    "- 순환신경망, 재귀신경망, Recurrent Neural Network\n",
    "- 계층의 출력이 순환하는 인공신경망\n",
    "- 은닉 계층에서 결과가 다음 계층 넘어가거나, 다시 자기 계층으로 들어오는 구조\n",
    "- 시계열 정보와 같은 앞뒤 상관도가 있는 경우 성능을 높일 수 있다."
   ]
  },
  {
   "cell_type": "markdown",
   "metadata": {},
   "source": [
    "- 문제점\n",
    "> 구조적인 문제 => 학습 효과를 저해하는 요인    \n",
    "> 출력 신호가 순환하면서 활성화 함수를 계속 거치고 이 요인은 정상값을 구하는데 어려움을 제공   \n",
    "> 입력값이 크면-> 활성화 함수의 결과로 나오는 미분값이 0으로 점점 다가가기 때문에 순환하며 거의 0이 되어서 학습 불가  \n",
    "> 이것을 개선하기 위해 RNN -> LSTM"
   ]
  },
  {
   "cell_type": "code",
   "execution_count": null,
   "metadata": {},
   "outputs": [],
   "source": []
  }
 ],
 "metadata": {
  "kernelspec": {
   "display_name": "Python 3",
   "language": "python",
   "name": "python3"
  },
  "language_info": {
   "codemirror_mode": {
    "name": "ipython",
    "version": 3
   },
   "file_extension": ".py",
   "mimetype": "text/x-python",
   "name": "python",
   "nbconvert_exporter": "python",
   "pygments_lexer": "ipython3",
   "version": "3.6.5"
  }
 },
 "nbformat": 4,
 "nbformat_minor": 2
}
