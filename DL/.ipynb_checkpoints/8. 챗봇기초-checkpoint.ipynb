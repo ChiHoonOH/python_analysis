{
 "cells": [
  {
   "cell_type": "markdown",
   "metadata": {},
   "source": [
    "### 문장 자동 생성 방법\n",
    "\n",
    "- 마르코프 체인\n",
    "> 확률 기반으로 문장을 이어 붙여서 나가는 방법(사전 구축)  \n",
    "- LSTM/RNN \n",
    "> 딥러닝으로 다음에 위치할 문장을 예측하여 문장을 생성하는 방법  "
   ]
  },
  {
   "cell_type": "markdown",
   "metadata": {},
   "source": [
    "### 마르코프 체인\n",
    "- 러시아 수학자 마르코프 연구\n",
    "- 워드 셀러드라고도 불림\n",
    "- 물리학, 통계학 기본 모델로 응용\n",
    "- 마르코프 성질(Markov property)\n",
    "> 과거의 상태 무시, 현재 상태만 기반으로 다음 상태 결정  \n",
    "> 현재 상태 qi, 다음상태를 qj라고 하면 \n",
    "> 다음 상태로 이동할 확률 P(qi|qj)   \n",
    "- 문장 요약 기능이 존재하여 트위터 봇에서 사용 \n",
    "- 문장 생성 과정 \n",
    "> 문장을 단어로 분할(형태소 분석)  \n",
    "> 단어의 전후 연결을 딕셔너리에 등록(사전에 등록, 구조는 딕셔너리 구조)    \n",
    "> 이전 단어 -> 현재 단어 -> 다음 단어  dic{dic{dic}}   \n",
    "> {이전단어:{현제단어:{다음단어:1}}}  \n",
    "> 사전을 통해 임의의 문장을 생성  \n",
    "- 사전 만드는 과정\n",
    "' 그는 강아지를 좋아합니다'\n",
    "형태소 분석   \n",
    "'그|는|강아지|를|좋아|합니다.|'  \n",
    "전후 관계를 알 수 있는 단위  \n",
    "\n",
    "'그|는|강아지'  \n",
    "'는|강아지|를'  \n",
    "'강아지|를|좋아'  \n",
    "'를|좋아|합니다.  "
   ]
  },
  {
   "cell_type": "markdown",
   "metadata": {},
   "source": [
    "# word2vec이랑 마르코프 체인이랑 구분 할 것\n",
    "- 문장은 사전을 기반으로 생성\n",
    "- 단점 : 문장의 실질적인 의미 연관성을 고려하지 않는다. -> 이상항 문장이 나오기도 한다."
   ]
  },
  {
   "cell_type": "code",
   "execution_count": null,
   "metadata": {},
   "outputs": [],
   "source": []
  }
 ],
 "metadata": {
  "kernelspec": {
   "display_name": "Python 3",
   "language": "python",
   "name": "python3"
  },
  "language_info": {
   "codemirror_mode": {
    "name": "ipython",
    "version": 3
   },
   "file_extension": ".py",
   "mimetype": "text/x-python",
   "name": "python",
   "nbconvert_exporter": "python",
   "pygments_lexer": "ipython3",
   "version": "3.6.5"
  }
 },
 "nbformat": 4,
 "nbformat_minor": 2
}
