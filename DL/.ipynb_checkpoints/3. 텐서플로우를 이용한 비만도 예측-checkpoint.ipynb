{
 "cells": [
  {
   "cell_type": "markdown",
   "metadata": {},
   "source": [
    "### 텐서플로우를 이용한 비만도 예측  \n",
    "- BMI = 몸무게 / 키*키 * 100 => 특정 값 이상\n",
    "> 고도비만 : 40이상\n",
    "\n"
   ]
  },
  {
   "cell_type": "code",
   "execution_count": 1,
   "metadata": {},
   "outputs": [
    {
     "name": "stderr",
     "output_type": "stream",
     "text": [
      "D:\\anaconda\\lib\\site-packages\\h5py\\__init__.py:36: FutureWarning: Conversion of the second argument of issubdtype from `float` to `np.floating` is deprecated. In future, it will be treated as `np.float64 == np.dtype(float).type`.\n",
      "  from ._conv import register_converters as _register_converters\n"
     ]
    }
   ],
   "source": [
    "# 모듈 가져오기\n",
    "import pandas as pd \n",
    "import numpy as np\n",
    "import tensorflow as tf"
   ]
  },
  {
   "cell_type": "code",
   "execution_count": 2,
   "metadata": {},
   "outputs": [],
   "source": [
    "csv = pd.read_csv('./data/bmi.csv')"
   ]
  },
  {
   "cell_type": "code",
   "execution_count": 3,
   "metadata": {},
   "outputs": [
    {
     "data": {
      "text/html": [
       "<div>\n",
       "<style scoped>\n",
       "    .dataframe tbody tr th:only-of-type {\n",
       "        vertical-align: middle;\n",
       "    }\n",
       "\n",
       "    .dataframe tbody tr th {\n",
       "        vertical-align: top;\n",
       "    }\n",
       "\n",
       "    .dataframe thead th {\n",
       "        text-align: right;\n",
       "    }\n",
       "</style>\n",
       "<table border=\"1\" class=\"dataframe\">\n",
       "  <thead>\n",
       "    <tr style=\"text-align: right;\">\n",
       "      <th></th>\n",
       "      <th>height</th>\n",
       "      <th>weight</th>\n",
       "      <th>label</th>\n",
       "    </tr>\n",
       "  </thead>\n",
       "  <tbody>\n",
       "    <tr>\n",
       "      <th>0</th>\n",
       "      <td>178</td>\n",
       "      <td>69</td>\n",
       "      <td>normal</td>\n",
       "    </tr>\n",
       "    <tr>\n",
       "      <th>1</th>\n",
       "      <td>190</td>\n",
       "      <td>62</td>\n",
       "      <td>thin</td>\n",
       "    </tr>\n",
       "    <tr>\n",
       "      <th>2</th>\n",
       "      <td>134</td>\n",
       "      <td>61</td>\n",
       "      <td>fat</td>\n",
       "    </tr>\n",
       "    <tr>\n",
       "      <th>3</th>\n",
       "      <td>144</td>\n",
       "      <td>43</td>\n",
       "      <td>normal</td>\n",
       "    </tr>\n",
       "    <tr>\n",
       "      <th>4</th>\n",
       "      <td>149</td>\n",
       "      <td>40</td>\n",
       "      <td>thin</td>\n",
       "    </tr>\n",
       "  </tbody>\n",
       "</table>\n",
       "</div>"
      ],
      "text/plain": [
       "   height  weight   label\n",
       "0     178      69  normal\n",
       "1     190      62    thin\n",
       "2     134      61     fat\n",
       "3     144      43  normal\n",
       "4     149      40    thin"
      ]
     },
     "execution_count": 3,
     "metadata": {},
     "output_type": "execute_result"
    }
   ],
   "source": [
    "csv.head()"
   ]
  },
  {
   "cell_type": "code",
   "execution_count": 4,
   "metadata": {},
   "outputs": [],
   "source": [
    "# 데이터 정규화\n",
    "# 간단하게 무게의 최대값 기준, 키의 최대값 기준 각각 처리\n",
    "# height -  weight"
   ]
  },
  {
   "cell_type": "code",
   "execution_count": 5,
   "metadata": {},
   "outputs": [],
   "source": [
    "csv['height']=csv['height']/max(csv['height'])\n",
    "csv['weight']=csv['weight']/max(csv['weight'])"
   ]
  },
  {
   "cell_type": "code",
   "execution_count": 6,
   "metadata": {},
   "outputs": [
    {
     "data": {
      "text/html": [
       "<div>\n",
       "<style scoped>\n",
       "    .dataframe tbody tr th:only-of-type {\n",
       "        vertical-align: middle;\n",
       "    }\n",
       "\n",
       "    .dataframe tbody tr th {\n",
       "        vertical-align: top;\n",
       "    }\n",
       "\n",
       "    .dataframe thead th {\n",
       "        text-align: right;\n",
       "    }\n",
       "</style>\n",
       "<table border=\"1\" class=\"dataframe\">\n",
       "  <thead>\n",
       "    <tr style=\"text-align: right;\">\n",
       "      <th></th>\n",
       "      <th>height</th>\n",
       "      <th>weight</th>\n",
       "      <th>label</th>\n",
       "    </tr>\n",
       "  </thead>\n",
       "  <tbody>\n",
       "    <tr>\n",
       "      <th>0</th>\n",
       "      <td>0.890</td>\n",
       "      <td>0.8625</td>\n",
       "      <td>normal</td>\n",
       "    </tr>\n",
       "    <tr>\n",
       "      <th>1</th>\n",
       "      <td>0.950</td>\n",
       "      <td>0.7750</td>\n",
       "      <td>thin</td>\n",
       "    </tr>\n",
       "    <tr>\n",
       "      <th>2</th>\n",
       "      <td>0.670</td>\n",
       "      <td>0.7625</td>\n",
       "      <td>fat</td>\n",
       "    </tr>\n",
       "    <tr>\n",
       "      <th>3</th>\n",
       "      <td>0.720</td>\n",
       "      <td>0.5375</td>\n",
       "      <td>normal</td>\n",
       "    </tr>\n",
       "    <tr>\n",
       "      <th>4</th>\n",
       "      <td>0.745</td>\n",
       "      <td>0.5000</td>\n",
       "      <td>thin</td>\n",
       "    </tr>\n",
       "  </tbody>\n",
       "</table>\n",
       "</div>"
      ],
      "text/plain": [
       "   height  weight   label\n",
       "0   0.890  0.8625  normal\n",
       "1   0.950  0.7750    thin\n",
       "2   0.670  0.7625     fat\n",
       "3   0.720  0.5375  normal\n",
       "4   0.745  0.5000    thin"
      ]
     },
     "execution_count": 6,
     "metadata": {},
     "output_type": "execute_result"
    }
   ],
   "source": [
    "csv.head()"
   ]
  },
  {
   "cell_type": "markdown",
   "metadata": {},
   "source": [
    "### 레이블 데이터를 배열로 변환\n",
    "\n",
    "- 값을 분류하기 위해 분류변수인지 연속변수인지 구분 처리\n",
    "- 분류 변수 \n",
    "> thin : [1,0,0]\n",
    "> normal : [0,1,0]\n",
    "> fat : [0,0,1]\n",
    "- csv['label_bmi'] = 레이블 값이 "
   ]
  },
  {
   "cell_type": "code",
   "execution_count": 7,
   "metadata": {},
   "outputs": [],
   "source": [
    "# label = csv['label']\n",
    "\n",
    "# for idx in range(len(csv['label'])):\n",
    "#     if label[idx] == 'thin':\n",
    "#         csv['label_bmi'][idx] = [1,0,0]\n",
    "#     elif label[idx] == 'normal':\n",
    "#         csv['label_bmi'][idx] = [0,1,0]\n",
    "#     else:\n",
    "#         csv['label_bmi'][idx] = [0,0,1]"
   ]
  },
  {
   "cell_type": "code",
   "execution_count": 8,
   "metadata": {},
   "outputs": [],
   "source": [
    "chgBase = {\n",
    "'thin' : np.array([1,0,0]),\n",
    "'normal' : np.array([0,1,0]),\n",
    "'fat' : np.array([0,0,1])\n",
    "}"
   ]
  },
  {
   "cell_type": "code",
   "execution_count": 9,
   "metadata": {},
   "outputs": [],
   "source": [
    "csv['label_bmi'] = csv['label'].apply(lambda x:chgBase[x]) # apply를 spark map함수라고 생각하면 될듯하다.\n",
    "#csv['label'].apply(lambda x:chgBase[x])"
   ]
  },
  {
   "cell_type": "code",
   "execution_count": 10,
   "metadata": {},
   "outputs": [
    {
     "data": {
      "text/html": [
       "<div>\n",
       "<style scoped>\n",
       "    .dataframe tbody tr th:only-of-type {\n",
       "        vertical-align: middle;\n",
       "    }\n",
       "\n",
       "    .dataframe tbody tr th {\n",
       "        vertical-align: top;\n",
       "    }\n",
       "\n",
       "    .dataframe thead th {\n",
       "        text-align: right;\n",
       "    }\n",
       "</style>\n",
       "<table border=\"1\" class=\"dataframe\">\n",
       "  <thead>\n",
       "    <tr style=\"text-align: right;\">\n",
       "      <th></th>\n",
       "      <th>height</th>\n",
       "      <th>weight</th>\n",
       "      <th>label</th>\n",
       "      <th>label_bmi</th>\n",
       "    </tr>\n",
       "  </thead>\n",
       "  <tbody>\n",
       "    <tr>\n",
       "      <th>0</th>\n",
       "      <td>0.89</td>\n",
       "      <td>0.8625</td>\n",
       "      <td>normal</td>\n",
       "      <td>[0, 1, 0]</td>\n",
       "    </tr>\n",
       "    <tr>\n",
       "      <th>1</th>\n",
       "      <td>0.95</td>\n",
       "      <td>0.7750</td>\n",
       "      <td>thin</td>\n",
       "      <td>[1, 0, 0]</td>\n",
       "    </tr>\n",
       "  </tbody>\n",
       "</table>\n",
       "</div>"
      ],
      "text/plain": [
       "   height  weight   label  label_bmi\n",
       "0    0.89  0.8625  normal  [0, 1, 0]\n",
       "1    0.95  0.7750    thin  [1, 0, 0]"
      ]
     },
     "execution_count": 10,
     "metadata": {},
     "output_type": "execute_result"
    }
   ],
   "source": [
    "csv.head(2)"
   ]
  },
  {
   "cell_type": "code",
   "execution_count": 11,
   "metadata": {},
   "outputs": [],
   "source": [
    "# 데[이터 분류\n",
    "num = int(len(csv)/4)\n",
    "# 75% : 25%(테스트데이터)"
   ]
  },
  {
   "cell_type": "code",
   "execution_count": 12,
   "metadata": {},
   "outputs": [],
   "source": [
    "test_csv = csv[-int(len(csv)/4):]\n",
    "train_csv = csv[:int(len(csv)*3/4)]"
   ]
  },
  {
   "cell_type": "code",
   "execution_count": 13,
   "metadata": {},
   "outputs": [
    {
     "data": {
      "text/plain": [
       "(5000, 15000)"
      ]
     },
     "execution_count": 13,
     "metadata": {},
     "output_type": "execute_result"
    }
   ],
   "source": [
    "len(test_csv), len(train_csv)"
   ]
  },
  {
   "cell_type": "code",
   "execution_count": 14,
   "metadata": {},
   "outputs": [],
   "source": [
    "# height weight\n",
    "test_bmi = test_csv[['weight','height']]\n",
    "# label_bmi\n",
    "test_label = list(test_csv['label_bmi'])"
   ]
  },
  {
   "cell_type": "code",
   "execution_count": 15,
   "metadata": {},
   "outputs": [
    {
     "data": {
      "text/html": [
       "<div>\n",
       "<style scoped>\n",
       "    .dataframe tbody tr th:only-of-type {\n",
       "        vertical-align: middle;\n",
       "    }\n",
       "\n",
       "    .dataframe tbody tr th {\n",
       "        vertical-align: top;\n",
       "    }\n",
       "\n",
       "    .dataframe thead th {\n",
       "        text-align: right;\n",
       "    }\n",
       "</style>\n",
       "<table border=\"1\" class=\"dataframe\">\n",
       "  <thead>\n",
       "    <tr style=\"text-align: right;\">\n",
       "      <th></th>\n",
       "      <th>weight</th>\n",
       "      <th>height</th>\n",
       "    </tr>\n",
       "  </thead>\n",
       "  <tbody>\n",
       "    <tr>\n",
       "      <th>15000</th>\n",
       "      <td>0.85</td>\n",
       "      <td>0.62</td>\n",
       "    </tr>\n",
       "    <tr>\n",
       "      <th>15001</th>\n",
       "      <td>0.85</td>\n",
       "      <td>0.99</td>\n",
       "    </tr>\n",
       "  </tbody>\n",
       "</table>\n",
       "</div>"
      ],
      "text/plain": [
       "       weight  height\n",
       "15000    0.85    0.62\n",
       "15001    0.85    0.99"
      ]
     },
     "execution_count": 15,
     "metadata": {},
     "output_type": "execute_result"
    }
   ],
   "source": [
    "test_bmi.head(2)"
   ]
  },
  {
   "cell_type": "code",
   "execution_count": 16,
   "metadata": {},
   "outputs": [
    {
     "data": {
      "text/plain": [
       "[array([0, 0, 1]), array([1, 0, 0])]"
      ]
     },
     "execution_count": 16,
     "metadata": {},
     "output_type": "execute_result"
    }
   ],
   "source": [
    "test_label[:2]"
   ]
  },
  {
   "cell_type": "markdown",
   "metadata": {},
   "source": [
    "### 소프트맥스 회귀 \n",
    "- 이 알고리즘을 이용하여 데이터 플로우 그래프를 생성   \n",
    "- 텐서플로우로 학습 후 예측"
   ]
  },
  {
   "cell_type": "markdown",
   "metadata": {},
   "source": [
    "- 각각의 출력값에 대해 가중치 합을 계산하고, 바이어스를 더한뒤 소프트맥스를 적용 => 신경망(뉴런)과 유사한 구조를 가진다.\n",
    "<img src='./data/sm0.png' width=300 height=300>\n",
    "<img src='./data/sm1.png' width=300 height=300>\n",
    "<img src='./data/sm2.png' width=300 height=300>\n",
    "<img src='./data/sm3.png' width=300 height=300>\n",
    "<img src='./data/sm4.png' width=300 height=300>\n",
    "<img src='./data/sm5.png' width=300 height=300>\n",
    "<img src='./data/sm6.png' width=300 height=300>\n",
    "\n",
    "- 식으로 표현 y = softmax(w*x+b)"
   ]
  },
  {
   "cell_type": "code",
   "execution_count": 29,
   "metadata": {},
   "outputs": [],
   "source": [
    "# 데이터 플로우 그래프 구축\n",
    "# 사전 준비, 변수 or 상수 or 플레이스 홀더\n",
    "# 플레이스 홀더 정의\n",
    "\n",
    "# 키 몸무게를 담을 데이터 그릇\n",
    "x = tf.placeholder(tf.float32, [None,2]) # 하나의 값을 담을 그릇\n",
    "# 정답 레이블의 placeholder\n",
    "# [1,0,0]\n",
    "# tf.int32가 원래 타입, float32 형태도 비교해서 확인해본다. # ??? 뭔말임?\n",
    "y_ = tf.placeholder(tf.float32, [None,3])  # 하나의 값을 담을 그릇"
   ]
  },
  {
   "cell_type": "code",
   "execution_count": 30,
   "metadata": {},
   "outputs": [],
   "source": [
    "# 변수 선언 \n",
    "# [] => 행렬(matrix)\n",
    "# [None, 2] *[2,3] +[3] = [none,3]\n",
    "# y = softmax(xw+b)\n",
    "W = tf.Variable(tf.zeros([2,3]))  # 가중치\n",
    "b = tf.Variable(tf.zeros([3]))  # 바이어스(정답과 예측값의 차이의 평균)"
   ]
  },
  {
   "cell_type": "code",
   "execution_count": 31,
   "metadata": {},
   "outputs": [],
   "source": [
    "# 소프트 맥스 회귀 정의 \n",
    "y = tf.nn.softmax(tf.matmul(x,W)+b) # matmul => 행렬의 곱 #nn => 데이터 플로우 그래프"
   ]
  },
  {
   "cell_type": "markdown",
   "metadata": {},
   "source": [
    "## 학습\n",
    "\n",
    "- 훈련 데이터 csv ; 0~15000  \n",
    "- 학습을 하는데 있어서 Good 모델의 선정기준   \n",
    "- 선정기준  \n",
    "> 비용(cost), 손실(lost)  \n",
    "> 원하는 결과치에 얼마나 떨어져 있는지 보여주는 기본값  \n",
    "- 방향\n",
    "> 이런 요소의 격차를 줄이는 방향으로 , 가급적 작은 값을 얻는다.  \n",
    "> 크로스(교차) 엔트로피 방법을 제시\n",
    "- 응용  \n",
    "> 정보 분야 압축으로 고안이 되었고, 도박~ 머신러닝까지 다양하게 사용      \n",
    "\n",
    "크로스 엔트로피 식\n",
    "<img src='./data/sm4.png'>"
   ]
  },
  {
   "cell_type": "code",
   "execution_count": 32,
   "metadata": {},
   "outputs": [],
   "source": [
    "# 모델 훈련하기\n",
    "# 크로스 엔트로피 적용\n",
    "cross_entropy = -tf.reduce_sum(y_ * tf.log(y))\n",
    "# 경사하강법(gradient descent algorithm) 크로스 엔트로피를 최소화 하도록 지시\n",
    "# 경사 하강법: 텐서 플로우가 각각의 변수의 비용을 줄이는 방향으로 조금씩 이동시킴\n",
    "# 학습계수 : 0.01 \n",
    "optimizer= tf.train.GradientDescentOptimizer(0.01) \n",
    "\n",
    "# 훈련\n",
    "train = optimizer.minimize(cross_entropy)"
   ]
  },
  {
   "cell_type": "markdown",
   "metadata": {},
   "source": [
    "### 모델평가 \n",
    "\n",
    "- 정답률 예측  \n",
    "- y,y_ 비교  \n",
    "- tf.equal() 사용\n",
    "- tf.arg_max() => 사용한 모델이 판단하기에 전체 데이터 중에서 가장 적합하다고 판단한 라벨값.  "
   ]
  },
  {
   "cell_type": "code",
   "execution_count": 33,
   "metadata": {},
   "outputs": [],
   "source": [
    "predict = tf.equal(tf.arg_max(y, 1), tf.arg_max(y_, 1))  # ?? arg_max를 쓰는게 이해가 안감. 왜하나만 함? 1은 또 뭥미"
   ]
  },
  {
   "cell_type": "markdown",
   "metadata": {},
   "source": [
    "## 정확도 정의"
   ]
  },
  {
   "cell_type": "code",
   "execution_count": 34,
   "metadata": {},
   "outputs": [],
   "source": [
    "accuracy = tf.reduce_mean(tf.cast(predict, tf.float32))  # 내가 아는정확도는 test데이터와 predict값을 비교하는걸로 기억하고 있는데..."
   ]
  },
  {
   "cell_type": "code",
   "execution_count": 62,
   "metadata": {
    "scrolled": true
   },
   "outputs": [
    {
     "name": "stdout",
     "output_type": "stream",
     "text": [
      "step=0 cre=107.942314 acc=0.392\n",
      "step=10 cre=104.53505 acc=0.5744\n",
      "step=20 cre=99.81001 acc=0.5506\n",
      "step=30 cre=96.27734 acc=0.5922\n",
      "step=40 cre=90.37397 acc=0.6926\n",
      "step=50 cre=86.8286 acc=0.691\n",
      "step=60 cre=85.04412 acc=0.6942\n",
      "step=70 cre=85.00486 acc=0.663\n",
      "step=80 cre=79.47376 acc=0.6874\n",
      "step=90 cre=81.01956 acc=0.8266\n",
      "step=100 cre=74.21771 acc=0.6974\n",
      "step=110 cre=80.26869 acc=0.768\n",
      "step=120 cre=74.314674 acc=0.8186\n",
      "step=130 cre=73.06036 acc=0.7158\n",
      "step=140 cre=73.42212 acc=0.713\n",
      "정답률: 0.7568\n"
     ]
    }
   ],
   "source": [
    "# 세션 시작하기, 훈련 시작\n",
    "with tf.Session() as sess:\n",
    "    # 1. 변수 초기화\n",
    "    sess.run(tf.global_variables_initializer())\n",
    "    # 2. 학습을 위한 데이터 분류 반복작성\n",
    "    # 15000개 , 100개 단위로 데이터를 획득 \n",
    "    size = 100   \n",
    "    # train[:100]train[100:100+100] .... train[14900:15000]\n",
    "    for idx in range(len(train_csv)//size):\n",
    "        tmp = train_csv[idx*size:(idx+1)*size] \n",
    "        train_bmi = tmp[['weight','height']]\n",
    "        train_label = list(tmp['label_bmi'])\n",
    "        # 그래프에 데이터를 전달하는 구조를 마춘 것.\n",
    "        fd = {x:train_bmi, y_:train_label}\n",
    "        # 훈련\n",
    "        sess.run(train,feed_dict=fd) # train = optimizer 근데 이거 softmax에 학습 시켜야 하는거 아닌가?? => cross_entropy에 들어갔다.\n",
    "        # 중간점검\n",
    "        if idx % 10 ==0:\n",
    "            cre = sess.run(cross_entropy, feed_dict = fd)\n",
    "            acc = sess.run(accuracy, feed_dict={x:test_bmi, y_:test_label} )\n",
    "            print('step=%s cre=%s acc=%s' % (idx,cre,acc))\n",
    "            \n",
    "    # end for \n",
    "    # 최종 정답률\n",
    "    acc = sess.run(accuracy, feed_dict={x:test_bmi, y_:test_label} )\n",
    "    print('정답률:', acc)"
   ]
  },
  {
   "cell_type": "code",
   "execution_count": 64,
   "metadata": {},
   "outputs": [],
   "source": [
    "####################### 이거 다시 \n",
    "# 세션 시작하기, 훈련 시작, 예측 시작, \n",
    "with tf.Session() as sess:\n",
    "    # 1. 변수 초기화\n",
    "    sess.run( tf.global_variables_initializer() )\n",
    "    # 2. 학습을 위한 데이터 분류 반복 작성\n",
    "    # 15000, 100개 단위로 데이터를 획득 \n",
    "    # 0~99, 100~199, 200~299, .... , 14900~15000\n",
    "    TERM = int(100)\n",
    "    SIZE = int( (len(csv)-len(test_csv)) / TERM)\n",
    "    for step in range(SIZE*16):\n",
    "        startIdx = int( step*TERM/16 )\n",
    "        tmp = csv[ startIdx : startIdx+TERM ]\n",
    "        # 학습 데이터 분류\n",
    "        train_bmi   = tmp[ ['weight', 'height' ] ]\n",
    "        train_label = list(tmp['label_bmi'])\n",
    "        # 그래프에 데이터를 전달하는 구조를 맞춘것\n",
    "        fd = { x:train_bmi , y_:train_label }\n",
    "        # 훈련\n",
    "        sess.run( train, feed_dict=fd )\n",
    "        # 중간 점검\n",
    "        if step % 10 == 0:\n",
    "            cre = sess.run(cross_entropy, feed_dict=fd)\n",
    "            acc = sess.run(accuracy, feed_dict={x:test_bmi, y_:test_label})\n",
    "#             print( 'step=%s cre=%s acc=%s' % (step, cre, acc) )\n",
    "    # end for\n",
    "    # 최종 정답률\n",
    "    acc = sess.run( accuracy, feed_dict={x:test_bmi, y_:test_label})\n",
    "    # print('정답률', acc)\n",
    "    tw = tf.summary.FileWriter('./data/log_bmi',graph = sess.graph)\n",
    "        "
   ]
  },
  {
   "cell_type": "code",
   "execution_count": null,
   "metadata": {},
   "outputs": [],
   "source": []
  },
  {
   "cell_type": "code",
   "execution_count": null,
   "metadata": {},
   "outputs": [],
   "source": []
  },
  {
   "cell_type": "code",
   "execution_count": null,
   "metadata": {},
   "outputs": [],
   "source": []
  },
  {
   "cell_type": "code",
   "execution_count": null,
   "metadata": {},
   "outputs": [],
   "source": []
  }
 ],
 "metadata": {
  "kernelspec": {
   "display_name": "Python 3",
   "language": "python",
   "name": "python3"
  },
  "language_info": {
   "codemirror_mode": {
    "name": "ipython",
    "version": 3
   },
   "file_extension": ".py",
   "mimetype": "text/x-python",
   "name": "python",
   "nbconvert_exporter": "python",
   "pygments_lexer": "ipython3",
   "version": "3.6.5"
  }
 },
 "nbformat": 4,
 "nbformat_minor": 2
}
