{
 "cells": [
  {
   "cell_type": "markdown",
   "metadata": {},
   "source": [
    "LSTM"
   ]
  },
  {
   "cell_type": "code",
   "execution_count": 1,
   "metadata": {},
   "outputs": [
    {
     "name": "stderr",
     "output_type": "stream",
     "text": [
      "D:\\anaconda\\lib\\site-packages\\h5py\\__init__.py:36: FutureWarning: Conversion of the second argument of issubdtype from `float` to `np.floating` is deprecated. In future, it will be treated as `np.float64 == np.dtype(float).type`.\n",
      "  from ._conv import register_converters as _register_converters\n",
      "Using TensorFlow backend.\n"
     ]
    }
   ],
   "source": [
    "from keras.models import Sequential\n",
    "from keras.layers import Dense, Activation, Dropout\n",
    "from keras.layers import LSTM\n",
    "from keras.optimizers import RMSprop\n",
    "from keras.utils.data_utils import get_file\n",
    "import numpy as np\n",
    "import random, sys"
   ]
  },
  {
   "cell_type": "code",
   "execution_count": 2,
   "metadata": {},
   "outputs": [
    {
     "ename": "IndentationError",
     "evalue": "expected an indented block (<ipython-input-2-1050aa1e05ad>, line 5)",
     "output_type": "error",
     "traceback": [
      "\u001b[1;36m  File \u001b[1;32m\"<ipython-input-2-1050aa1e05ad>\"\u001b[1;36m, line \u001b[1;32m5\u001b[0m\n\u001b[1;33m    text = fp.read().replace('\\n','')\u001b[0m\n\u001b[1;37m       ^\u001b[0m\n\u001b[1;31mIndentationError\u001b[0m\u001b[1;31m:\u001b[0m expected an indented block\n"
     ]
    }
   ],
   "source": [
    "def loadData(maxlen=20, step=3):\n",
    "    sample_file = 'data/욕망이타는숲.txt' # 나중에 사용\n",
    "    sample_file = 'data/small.txt'       # 임시사용\n",
    "    with open(sample_file, 'r', encoding='utf8') as fp:\n",
    "    text = fp.read().replace('\\n','')\n",
    "    print( '코퍼스의 길이', len(text) )\n",
    "    # 문자를 하나하나 중복 제거해서 리스트화해서 소트 처리 \n",
    "    # 불필요한 텍스트 \\n 제거 => 정규화\n",
    "    chars = sorted(list(set( text )))\n",
    "    print( len(chars) )\n",
    "    # 문자가 키, 인덱스가 값\n",
    "    char_indices = dict( (c, i) for i, c  in enumerate(chars) )\n",
    "    # 인덱스카 키, 문자가 값\n",
    "    indices_char = dict( (i, c) for i, c  in enumerate(chars) )\n",
    "    #print( char_indices )\n",
    "    #print( indices_char )\n",
    "    # 학습해야 할 원본 데이터의 백터화 처리\n",
    "    # 백터당 크기 세트 20\n",
    "    #maxlen = maxlen \n",
    "    # 20단어 세트로 움직이는 칸수, step 3\n",
    "    #step   = step \n",
    "    sentences = []\n",
    "    # 자른 백터 데이터의 바로 다음 이어지는 단어 1개 담는다\n",
    "    next_char = []\n",
    "    for i in range( 0, len(text)-maxlen, step ):\n",
    "    # 벡터당 텍스트 자르기 \n",
    "    sentences.append( text[i:i+maxlen] )\n",
    "    # 자른 텍스트에 이어지는 단어\n",
    "    next_char.append( text[i+maxlen] )\n",
    "    #print( sentences )\n",
    "    #print( next_char )\n",
    "\n",
    "    # sentences 백터화 작업 \n",
    "    # 차원 정의\n",
    "    # len(sentences) : maxlen로 세트된 개수\n",
    "    # maxlen : 해당 세트의 수(20)\n",
    "    # len(chars) : 그 세트의 하나한 값을 구성하는 종류의 수 ( 가, 나, 다 )이것만 있었다면 3\n",
    "    # ( len(sentences),  maxlen,  len(chars) )\n",
    "    x = np.zeros( (len(sentences),  maxlen,  len(chars)), dtype=np.bool  )\n",
    "    # 문장에 대한 다음문자 백터화 \n",
    "    # (문장수, 다음문자)\n",
    "    y = np.zeros( (len(sentences),  len(chars)), dtype=np.bool )\n",
    "    # 백터화 처리\n",
    "    for i, sentence in enumerate( sentences ):\n",
    "    #print( sentence )\n",
    "    for j, char in enumerate(sentence):\n",
    "      #print( i, j, char )\n",
    "      x[i, j, char_indices[char]] = 1\n",
    "    # 백터화 처리\n",
    "    y[ i, char_indices[next_char[i]] ] = 1\n",
    "    print( x )\n",
    "    return x, y, text, char_indices, indices_char"
   ]
  },
  {
   "cell_type": "code",
   "execution_count": null,
   "metadata": {},
   "outputs": [],
   "source": []
  }
 ],
 "metadata": {
  "kernelspec": {
   "display_name": "Python 3",
   "language": "python",
   "name": "python3"
  },
  "language_info": {
   "codemirror_mode": {
    "name": "ipython",
    "version": 3
   },
   "file_extension": ".py",
   "mimetype": "text/x-python",
   "name": "python",
   "nbconvert_exporter": "python",
   "pygments_lexer": "ipython3",
   "version": "3.6.5"
  }
 },
 "nbformat": 4,
 "nbformat_minor": 2
}
