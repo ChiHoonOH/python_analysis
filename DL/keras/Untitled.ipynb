{
 "cells": [
  {
   "cell_type": "markdown",
   "metadata": {},
   "source": [
    "### 심층신경망(Deep Neural Network DNN)\n",
    "\n",
    "- 은닉 계층 많이 쌓아서 만든 인공지능 기술    \n",
    "- 초기에는 ANN에서 은닉층을 하나 둔 형태  \n",
    "- DNN은 수십~수백~ 구성 가능\n",
    "- 우수한 성능을 낼 수 있고, 적용분야도 많아지고 다양해 졌다.\n"
   ]
  },
  {
   "cell_type": "code",
   "execution_count": null,
   "metadata": {},
   "outputs": [],
   "source": []
  }
 ],
 "metadata": {
  "kernelspec": {
   "display_name": "Python 3",
   "language": "python",
   "name": "python3"
  },
  "language_info": {
   "codemirror_mode": {
    "name": "ipython",
    "version": 3
   },
   "file_extension": ".py",
   "mimetype": "text/x-python",
   "name": "python",
   "nbconvert_exporter": "python",
   "pygments_lexer": "ipython3",
   "version": "3.6.5"
  }
 },
 "nbformat": 4,
 "nbformat_minor": 2
}
