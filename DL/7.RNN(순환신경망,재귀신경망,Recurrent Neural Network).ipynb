{
 "cells": [
  {
   "cell_type": "markdown",
   "metadata": {},
   "source": [
    "### RNN\n",
    "\n",
    "- 순환신경망, 재귀신경망, Recurrent Neural Network\n",
    "- 계층의 출력이 순환하는 인공신경망\n",
    "- 은닉 계층에서 결과가 다음 계층 넘어가거나, 다시 자기 계층으로 들어오는 구조\n",
    "- 시계열 정보와 같은 앞뒤 상관도가 있는 경우 성능을 높일 수 있다."
   ]
  },
  {
   "cell_type": "markdown",
   "metadata": {},
   "source": [
    "- 문제점\n",
    "> 구조적인 문제 => 학습 효과를 저해하는 요인    \n",
    "> 출력 신호가 순환하면서 활성화 함수를 계속 거치고 이 요인은 정상값을 구하는데 어려움을 제공   \n",
    "> 입력값이 크면-> 활성화 함수의 결과로 나오는 미분값이 0으로 점점 다가가기 때문에 순환하며 거의 0이 되어서 학습 불가  \n",
    "> 이것을 개선하기 위해 RNN -> LSTM  "
   ]
  },
  {
   "cell_type": "markdown",
   "metadata": {},
   "source": [
    "### LSTM\n",
    "\n",
    "** 3개의 벡터를 이용하여 출력 신호를 게이팅(gating, 성능조절)한다. ** => 기울기 소실 문제 해결 \n",
    "- 입력 조절 벡터\n",
    "> 신호가 tanh(하이퍼볼릭 탄젠트) 활성화 함수를 통과한 후에(값이 조절된) 다른 활성화 함수 sigmoid 함수의 크기와 위치를 조절 처리   \n",
    "- 망각 벡터\n",
    "> 과거 입력의 일부를 현재 입력에 반영(RNN은 직전것만 기억 LSTM은 이전꺼 다 기억)  \n",
    "- 출력 조절 벡터\n",
    "> 과거의 입력과 수정된 입력값을 고려하여 tanh 활성화 함수로 게이팅 수행  \n",
    "\n",
    "\n",
    "- 게이팅된 결과는 다시 순환 구조에 따른 새로운 시그모이드 함수가 적용된 계층이나 tanh가 적용된 계층으로 들어간다.  "
   ]
  },
  {
   "cell_type": "code",
   "execution_count": null,
   "metadata": {},
   "outputs": [],
   "source": []
  }
 ],
 "metadata": {
  "kernelspec": {
   "display_name": "Python 3",
   "language": "python",
   "name": "python3"
  },
  "language_info": {
   "codemirror_mode": {
    "name": "ipython",
    "version": 3
   },
   "file_extension": ".py",
   "mimetype": "text/x-python",
   "name": "python",
   "nbconvert_exporter": "python",
   "pygments_lexer": "ipython3",
   "version": "3.6.5"
  }
 },
 "nbformat": 4,
 "nbformat_minor": 2
}
