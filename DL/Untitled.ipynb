{
 "cells": [
  {
   "cell_type": "markdown",
   "metadata": {},
   "source": [
    "## 딥러닝\n"
   ]
  },
  {
   "cell_type": "markdown",
   "metadata": {},
   "source": [
    "<img=\"./data/a1.png\"/>"
   ]
  },
  {
   "cell_type": "markdown",
   "metadata": {},
   "source": [
    "- 아마존(알레사), 구글, 네이버 등등"
   ]
  },
  {
   "cell_type": "markdown",
   "metadata": {},
   "source": [
    "### 기존 방식과 차이점\n",
    "\n",
    "- 특정량 추출이 가장 차별점\n",
    "- 기존 방법 : 개발자(데이터 과학자) 특성을 일일이 하나 잡아줘야했다.(통찰, 해당 분야에 대한 이해, 지식)\n",
    "- 딥러닝 방법 : 학습 데이터에서 기계가 자동으로 특성 출력 => 특징을 학습하는 방식\n",
    "- 사과와 포도의 차이점 => 대량의 데이터를 학습시키면서 기계가 직접 특성을 찾아서 분류를 하게 되는 방식."
   ]
  },
  {
   "cell_type": "markdown",
   "metadata": {},
   "source": [
    "### 신경망\n",
    "\n",
    "- 뉴럴 네트워크 : 인간의 신경망을 본따서 만든 네트워크 구조\n",
    "- 인간의 뇌에 있는 신경세포(뉴런)\n",
    "> 하나의 뉴런은 다른 뉴런에게 신호를 받고, 전달하는 역할을 담당  \n",
    "> 신호의 흐름을 기반으로 다양한 정보들이 전달  \n",
    "> 뉴런들의 집합  \n",
    "- 입력층, 출력층이 존재한다.\n",
    "- 이런 신경망이 3개이상 중첩이 되면 깊은 신경망이라고 한다. \n",
    "> DNN(Deep Neural Network)\n",
    "> 이를 활용한 기계 학습을 딥러닝  \n",
    "> 대량의 데이터를 입력해서 학습 !!\n",
    "> 학습은 이런 뉴런의 접속 가중치를 조정하는 것."
   ]
  },
  {
   "cell_type": "markdown",
   "metadata": {},
   "source": [
    "<img src='./data/a4.png' >"
   ]
  },
  {
   "cell_type": "markdown",
   "metadata": {},
   "source": [
    "### 단순 퍼셉트론\n",
    "\n",
    "- 아이패드를 구매할 것인가?\n",
    "> 입력으로 아이패드를 사도 좋을지 관련된 요인을 부여\n",
    "1) 돈은 감당이 되는가?(x0)  \n",
    "2) 하드용량은 충분한가? (x1)  \n",
    "3) 지금 사용하는 태블릿은 문제가 있는가?(x2)  \n",
    "\n",
    "> 이런 항목들의 과반수를 만족하면 사도 되는가?  \n",
    "> - 부자인 경우는 뭐가 되던 상관 없다 => 각 조건에 대한 가중치가 필요하다.(w0 w1 w2 ...)  \n",
    "\n",
    "if x0*w0 + x1*w1 + .... > 기준치:  \n",
    "    구매한다.  \n",
    "else :  \n",
    "    비구매한다.  \n",
    "    "
   ]
  },
  {
   "cell_type": "code",
   "execution_count": null,
   "metadata": {},
   "outputs": [],
   "source": []
  }
 ],
 "metadata": {
  "kernelspec": {
   "display_name": "Python 3",
   "language": "python",
   "name": "python3"
  },
  "language_info": {
   "codemirror_mode": {
    "name": "ipython",
    "version": 3
   },
   "file_extension": ".py",
   "mimetype": "text/x-python",
   "name": "python",
   "nbconvert_exporter": "python",
   "pygments_lexer": "ipython3",
   "version": "3.6.5"
  }
 },
 "nbformat": 4,
 "nbformat_minor": 2
}
