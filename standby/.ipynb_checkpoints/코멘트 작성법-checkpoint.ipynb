{
 "cells": [
  {
   "cell_type": "markdown",
   "metadata": {},
   "source": [
    "# 헤드라인\n",
    "## 헤드라인2\n",
    "### 헤드라인3\n",
    "#### 헤드라인4\n",
    "##### 헤드라인5\n",
    "###### 헤드라인6\n"
   ]
  },
  {
   "cell_type": "markdown",
   "metadata": {},
   "source": [
    "### 소제목\n",
    "- 리스트 1\n",
    "- 리스트 1-1\n",
    "* 리스트 2\n",
    "+ 리스트 3"
   ]
  },
  {
   "cell_type": "markdown",
   "metadata": {},
   "source": [
    "### 리스트 이하 꾸미기\n",
    "- 리스트\n",
    "> ABC  \n",
    "> DEF"
   ]
  },
  {
   "cell_type": "markdown",
   "metadata": {},
   "source": [
    "#### 폰트\n",
    "- _이텔릭_ *이텔릭*  \n",
    "- __볼드__ **볼드**  \n",
    "- 링크[http://m.naver.com] (http://www.naver.com)  \n",
    "- 운영체계 명령\n",
    "- !dir\n"
   ]
  },
  {
   "cell_type": "code",
   "execution_count": null,
   "metadata": {},
   "outputs": [],
   "source": [
    "#html로 저장하면 보기가 좋다."
   ]
  }
 ],
 "metadata": {
  "kernelspec": {
   "display_name": "Python 3",
   "language": "python",
   "name": "python3"
  },
  "language_info": {
   "codemirror_mode": {
    "name": "ipython",
    "version": 3
   },
   "file_extension": ".py",
   "mimetype": "text/x-python",
   "name": "python",
   "nbconvert_exporter": "python",
   "pygments_lexer": "ipython3",
   "version": "3.6.5"
  }
 },
 "nbformat": 4,
 "nbformat_minor": 2
}
