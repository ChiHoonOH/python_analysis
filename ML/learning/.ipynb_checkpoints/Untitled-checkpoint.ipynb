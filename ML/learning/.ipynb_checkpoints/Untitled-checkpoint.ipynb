{
 "cells": [
  {
   "cell_type": "markdown",
   "metadata": {},
   "source": [
    "# 면접 문제"
   ]
  },
  {
   "cell_type": "code",
   "execution_count": 1,
   "metadata": {},
   "outputs": [],
   "source": [
    "import mylib.custom as cus\n",
    "from wordcloud import WordCloud\n",
    "import matplotlib.pyplot as plt\n",
    "import time\n",
    "\n",
    "import random"
   ]
  },
  {
   "cell_type": "code",
   "execution_count": null,
   "metadata": {},
   "outputs": [],
   "source": [
    "# 문제는 랜덤한 순서로 출력한다.\n",
    "# 1분 단위로 변경, 수동으로 실행할 수 있는 프로그램을 짠다..\n",
    "\n",
    "\n",
    "\n",
    "\n",
    "interview_list=[\n",
    "'자신을 사물에 비유한다면 무엇에 비유하시겠습니까? 그리고 그 이유는 무엇입니까?',\n",
    "'자신을 색깔에 비유해보세요. 그리고 그 이유는 무엇입니까?',\n",
    "'상사가 부당한 지시를 하였습니다. 이에 어떻게 대처 하시겠습니까?',\n",
    "'상사가 당신의 공을 가로챘습니다. 어떻게 하시겠습니까?',\n",
    "'자신을 물건에 비유해 보세요. 그리고 그 이유는 무엇입니까?',\n",
    "'지원 동기가 무엇입니까? ',\n",
    "'롤 모델은? 또는 존경하는 사람은 누구인가요?',\n",
    "'입사 후 포부에 대해서 말씀해보세요.',\n",
    "'최근에 읽은 책? 최근에 본 영화는 무엇입니까?',\n",
    "'본인을 우리가 뽑아야 하는 이유는 무엇입니까?',\n",
    "'현재 분야에서 필요한 자질은 무엇이라고 생각합니까?',\n",
    "'살면서 실패한 경험?',\n",
    "'희생정신을 발휘해본 경험이 있는가?'\n",
    "]\n",
    "#interview_dict = dict(zip(interview_list,[1 for _ in range(len(interview_list))]))\n",
    "\n",
    "#문제를 크게 출력한다.\n",
    "#print(interview_dict)\n",
    "%matplotlib inline\n",
    "for element in interview_list:    \n",
    "    interview_dict = dict([tuple([element,9999999999999]),(\"1\",1)])\n",
    "    f, ax=plt.subplots(1,1,figsize=(18,8))\n",
    "    wordcloud = WordCloud(font_path='c:/Windows/Fonts/malgun.ttf',background_color='white',min_font_size=10).generate_from_frequencies(frequencies=interview_dict)\n",
    "    \n",
    "    plt.imshow(wordcloud)\n",
    "    plt.axis('off')\n",
    "    \n",
    "    plt.show()\n",
    "    \n",
    "    plt.clf()\n",
    "    plt.gcf().clear()\n",
    "    plt.figure(clear=True)\n",
    "    \n",
    "\n",
    "# 글자를 크게 띄우는 방법?\n"
   ]
  },
  {
   "cell_type": "code",
   "execution_count": null,
   "metadata": {},
   "outputs": [],
   "source": [
    "tuple(['asfasfasdfasdfdsafasdfsadfsdfds',1])"
   ]
  },
  {
   "cell_type": "code",
   "execution_count": null,
   "metadata": {},
   "outputs": [],
   "source": []
  }
 ],
 "metadata": {
  "kernelspec": {
   "display_name": "Python 3",
   "language": "python",
   "name": "python3"
  },
  "language_info": {
   "codemirror_mode": {
    "name": "ipython",
    "version": 3
   },
   "file_extension": ".py",
   "mimetype": "text/x-python",
   "name": "python",
   "nbconvert_exporter": "python",
   "pygments_lexer": "ipython3",
   "version": "3.6.5"
  }
 },
 "nbformat": 4,
 "nbformat_minor": 2
}
