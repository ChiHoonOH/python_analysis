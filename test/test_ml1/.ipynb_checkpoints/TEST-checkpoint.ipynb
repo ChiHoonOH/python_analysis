{
 "cells": [
  {
   "cell_type": "markdown",
   "metadata": {},
   "source": [
    "# 요구사항 분석\n",
    "\n",
    "- 임의의 데이터세트로 분류 모델들의 성능을 평가하는 프로그램을 작성하시오\n",
    "- 내가 구성한 데이터를 넣어서 이 툴에 돌리면 성능평가 지표가 작성되는것(향후)"
   ]
  },
  {
   "cell_type": "markdown",
   "metadata": {},
   "source": [
    "0.절차를 잘 기술하시오\n",
    "1.\n",
    "싸이런킷에서 제공하는 분류용 데이터를 임시로  특성 20개까지 데이터 10000개를 만들어라.(동일한 성능을 내기 위해 난수씨드를 \n",
    "고정해도 괜찮음)  weights=[0.9, 0.1]\n",
    "2. \n",
    "아래 5개의 분류기를 이용하여  예측 성능 평가를 진행하라\n",
    "- 결정트리분류\n",
    "- 로지스틱회귀\n",
    "- 랜덤포레스트분류\n",
    "- 서포트백터머신분류\n",
    "- 나이브베이즈\n",
    "3. \n",
    "성능 평가 결과는 \n",
    "- ROC curve 시각화 자료\n",
    "- AUC 값\n",
    "2가지를 기초로 결과를 제시하시오"
   ]
  },
  {
   "cell_type": "markdown",
   "metadata": {},
   "source": [
    "# 데이터 수집\n",
    "\n",
    "- 싸이런킷에서 제공하는 분류용 데이터를 임시로  특성 20개까지 데이터 10000개를 만들어라.(동일한 성능을 내기 위해 난수씨드를 고정해도 괜찮음)  weights=[0.9, 0.1]"
   ]
  },
  {
   "cell_type": "code",
   "execution_count": 1,
   "metadata": {},
   "outputs": [
    {
     "name": "stdout",
     "output_type": "stream",
     "text": [
      "<class 'numpy.ndarray'> (10000, 20) <class 'numpy.ndarray'> (10000,)\n"
     ]
    }
   ],
   "source": [
    "from sklearn.datasets import make_classification\n",
    "# random_state=1 : 언제나 돌려도 항상 같은 패턴의 데이터가 생성된다 => 항상 같은 분석 결과를 낸다\n",
    "# weights : 샘플 생성시 표본\n",
    "X, y = make_classification(n_samples=10000, random_state=1, weights=[0.9, 0.1])\n",
    "# 데이터 세트 확인\n",
    "print( type(X),  X.shape,  type(y), y.shape )"
   ]
  },
  {
   "cell_type": "markdown",
   "metadata": {},
   "source": [
    "# 데이터 가공(전처리)\n",
    "- 더미 데이터이기 때문에 데이터 자체를 들여다 볼필요가 크게 없다\n",
    "- 실제 데이터들은 데이터를 이해하기 위해 시각화 진행, 특성공학, 차원축소, 주성분분석, 스케일링 ...\n",
    "- 빠르게 지나가기!! 가장 쉬운 방법으로 결론을 먼저 내고, 그다음에 복잡하게 들어간다\n",
    "- 훈련데이터와 테스데이터를 분류\n",
    "- train_test_split()"
   ]
  },
  {
   "cell_type": "code",
   "execution_count": 2,
   "metadata": {},
   "outputs": [],
   "source": [
    "from sklearn.model_selection import train_test_split\n",
    "# 임의로 .8로 테스트 세트 분류기준을 넣었다 (가정)\n",
    "# 훈련용과 테스트용 데이터의 비율을 얼마로 했는지 여기서는 2:8로 세팅\n",
    "X_train, X_test, y_train, y_test = train_test_split( X, y, test_size=.8, random_state=1 )"
   ]
  },
  {
   "cell_type": "code",
   "execution_count": 3,
   "metadata": {},
   "outputs": [
    {
     "name": "stdout",
     "output_type": "stream",
     "text": [
      "(2000, 20) (8000, 20) (2000,) (8000,)\n"
     ]
    }
   ],
   "source": [
    "# 잘 분류 되었는지 확인\n",
    "print(  X_train.shape, X_test.shape, y_train.shape, y_test.shape )"
   ]
  },
  {
   "cell_type": "markdown",
   "metadata": {},
   "source": [
    "# 모델 선정 및 학습"
   ]
  },
  {
   "cell_type": "code",
   "execution_count": 4,
   "metadata": {},
   "outputs": [],
   "source": [
    "# 분류기 , 로지스틱회귀\n",
    "from sklearn.linear_model import LogisticRegression\n",
    "# 결정 트리 분류 \n",
    "from sklearn.tree import DecisionTreeClassifier\n",
    "# 랜덤포레스트분류\n",
    "from sklearn.ensemble import RandomForestClassifier\n",
    "# 나이브베지즈 가우시안 NB\n",
    "from sklearn.naive_bayes import GaussianNB\n",
    "#- 서포트백터머신분류\n",
    "from sklearn.svm import SVC\n",
    "CLASS_DICT = {\n",
    "    # 키(분류기의이름) : ( 시각화시선의모양, 분류기 객체 )\n",
    "    '결정트리분류':('--',    DecisionTreeClassifier(max_depth=5) ),\n",
    "    '로지스틱회귀':('-',     LogisticRegression(solver='lbfgs') ),\n",
    "    '랜덤포레스트분류':('.-', RandomForestClassifier(max_depth=5, \n",
    "                                                    n_estimators=10, max_features=1)),\n",
    "    '서포트백터머신분류':('-',     SVC(gamma='auto', probability=True) ),\n",
    "    '나이브베이즈':(':',     GaussianNB() )\n",
    "}"
   ]
  },
  {
   "cell_type": "code",
   "execution_count": 5,
   "metadata": {},
   "outputs": [],
   "source": [
    "for key, value in CLASS_DICT.items():\n",
    "    # 훈련 (훈련용 데이터, 훈련용 레이블)\n",
    "    value[1].fit( X_train, y_train )"
   ]
  },
  {
   "cell_type": "markdown",
   "metadata": {},
   "source": [
    "# 예측"
   ]
  },
  {
   "cell_type": "code",
   "execution_count": 6,
   "metadata": {},
   "outputs": [
    {
     "data": {
      "text/plain": [
       "{'결정트리분류': array([[1.        , 0.        ],\n",
       "        [0.98726501, 0.01273499],\n",
       "        [0.93037975, 0.06962025],\n",
       "        ...,\n",
       "        [0.98726501, 0.01273499],\n",
       "        [0.98726501, 0.01273499],\n",
       "        [0.98726501, 0.01273499]]), '로지스틱회귀': array([[0.2777989 , 0.7222011 ],\n",
       "        [0.99264351, 0.00735649],\n",
       "        [0.75233494, 0.24766506],\n",
       "        ...,\n",
       "        [0.90483339, 0.09516661],\n",
       "        [0.99155313, 0.00844687],\n",
       "        [0.7348588 , 0.2651412 ]]), '랜덤포레스트분류': array([[0.64368945, 0.35631055],\n",
       "        [0.90035572, 0.09964428],\n",
       "        [0.94208334, 0.05791666],\n",
       "        ...,\n",
       "        [0.95004176, 0.04995824],\n",
       "        [0.93146632, 0.06853368],\n",
       "        [0.88395902, 0.11604098]]), '서포트백터머신분류': array([[0.46772017, 0.53227983],\n",
       "        [0.99714032, 0.00285968],\n",
       "        [0.93275026, 0.06724974],\n",
       "        ...,\n",
       "        [0.94903134, 0.05096866],\n",
       "        [0.94980355, 0.05019645],\n",
       "        [0.86238436, 0.13761564]]), '나이브베이즈': array([[0.02579337, 0.97420663],\n",
       "        [0.99771716, 0.00228284],\n",
       "        [0.72174223, 0.27825777],\n",
       "        ...,\n",
       "        [0.98439529, 0.01560471],\n",
       "        [0.99877565, 0.00122435],\n",
       "        [0.87026493, 0.12973507]])}"
      ]
     },
     "execution_count": 6,
     "metadata": {},
     "output_type": "execute_result"
    }
   ],
   "source": [
    "pres = {}\n",
    "for key, value in CLASS_DICT.items():\n",
    "    # 예측 (테스트용 데이터)\n",
    "    pre = value[1].predict_proba( X_test )\n",
    "    pres[key] = pre\n",
    "    #print( pre.shape )\n",
    "pres"
   ]
  },
  {
   "cell_type": "markdown",
   "metadata": {},
   "source": [
    "# 성능평가, 최적화(튜닝)\n",
    "\n",
    "- ROC curve, AUC 값, 시각화"
   ]
  },
  {
   "cell_type": "code",
   "execution_count": 23,
   "metadata": {},
   "outputs": [
    {
     "data": {
      "text/plain": [
       "'서포트백터머신분류'"
      ]
     },
     "execution_count": 23,
     "metadata": {},
     "output_type": "execute_result"
    }
   ],
   "source": [
    "from sklearn.metrics import roc_curve, auc\n",
    "\n",
    "aucScores = {} # AUC\n",
    "chart_raws = {} # 그래프용 재료\n",
    "\n",
    "for key, pre in pres.items():    \n",
    "    fpr, tpr, thresholds = roc_curve(y_test,pre[:,1])\n",
    "    aucScores[key] = auc(fpr,tpr)            \n",
    "    chart_raws[key] = (fpr,tpr)# 형식 : {'결정트리':(fpr,tpr)}    \n",
    "max(aucScores)"
   ]
  },
  {
   "cell_type": "code",
   "execution_count": 26,
   "metadata": {},
   "outputs": [
    {
     "name": "stderr",
     "output_type": "stream",
     "text": [
      "No handles with labels found to put in legend.\n"
     ]
    },
    {
     "data": {
      "text/plain": [
       "Text(0,0.5,'참 양성비')"
      ]
     },
     "execution_count": 26,
     "metadata": {},
     "output_type": "execute_result"
    },
    {
     "data": {
      "image/png": "[encoded data removed]",
      "text/plain": [
       "<Figure size 432x288 with 1 Axes>"
      ]
     },
     "metadata": {},
     "output_type": "display_data"
    },
    {
     "data": {
      "image/png": "[encoded data removed]",
      "text/plain": [
       "<Figure size 720x720 with 1 Axes>"
      ]
     },
     "metadata": {},
     "output_type": "display_data"
    }
   ],
   "source": [
    "#시각화 한글화\n",
    "import platform\n",
    "import matplotlib.pyplot as plt\n",
    "from matplotlib import font_manager, rc\n",
    "# 한글처리\n",
    "plt.rcParams['axes.unicode_minus'] = False\n",
    "if platform.system() == 'Darwin':    # 맥\n",
    "    rc( 'font', family='AppleGothic' )\n",
    "elif platform.system() == 'Windows': # 윈도우\n",
    "    # 폰트 차후 확인\n",
    "    fontPath = 'c:/Windows/Fonts/malgun.ttf'\n",
    "    fontName = font_manager.FontProperties( fname=fontPath ).get_name()\n",
    "    rc( 'font', family=fontName )\n",
    "else:\n",
    "    print('알수없는 시스템. 미적용')\n",
    "plt.figure(figsize = (10,10))\n",
    "\n",
    "for key,value in chart_raws.items():\n",
    "    plt.plot(value[0], value[1], CLASS_DICT[key][0], linewidth=5,label = '분류기:%s: auc%s' % (key,aucScores[key]) )#x,y, 선모양    \n",
    "    \n",
    "\n",
    "plt.legend()\n",
    "plt.title('분류기 성능 평가를 위한 ROC 곡선 그래프')\n",
    "plt.plot([0,1],[0,1],'k--')\n",
    "plt.xlabel('거짓 양성비')\n",
    "plt.ylabel('참 양성비')\n",
    "\n"
   ]
  },
  {
   "cell_type": "markdown",
   "metadata": {},
   "source": [
    "# 결과"
   ]
  },
  {
   "cell_type": "code",
   "execution_count": 15,
   "metadata": {},
   "outputs": [
    {
     "name": "stdout",
     "output_type": "stream",
     "text": [
      "분류된 데이터를 예측하는데 가장 좋은 성능을 낸 분류기는 서포트백터머신분류 이다\n",
      "AUC 점수가 0.9415257060308806점이고, ROC 곡선상에도 확인할수 있었다\n"
     ]
    }
   ],
   "source": [
    "print('분류된 데이터를 예측하는데 가장 좋은 성능을 낸 분류기는 %s 이다'% max(aucScores))  \n",
    "print('AUC 점수가 %s점이고, ROC 곡선상에도 확인할수 있었다' % aucScores[max(aucScores)] ) "
   ]
  },
  {
   "cell_type": "code",
   "execution_count": null,
   "metadata": {},
   "outputs": [],
   "source": []
  },
  {
   "cell_type": "code",
   "execution_count": null,
   "metadata": {},
   "outputs": [],
   "source": []
  },
  {
   "cell_type": "code",
   "execution_count": null,
   "metadata": {},
   "outputs": [],
   "source": []
  },
  {
   "cell_type": "code",
   "execution_count": null,
   "metadata": {},
   "outputs": [],
   "source": []
  },
  {
   "cell_type": "code",
   "execution_count": null,
   "metadata": {},
   "outputs": [],
   "source": []
  }
 ],
 "metadata": {
  "kernelspec": {
   "display_name": "Python 3",
   "language": "python",
   "name": "python3"
  },
  "language_info": {
   "codemirror_mode": {
    "name": "ipython",
    "version": 3
   },
   "file_extension": ".py",
   "mimetype": "text/x-python",
   "name": "python",
   "nbconvert_exporter": "python",
   "pygments_lexer": "ipython3",
   "version": "3.6.5"
  }
 },
 "nbformat": 4,
 "nbformat_minor": 2
}
