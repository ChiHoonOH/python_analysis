{
 "cells": [
  {
   "cell_type": "markdown",
   "metadata": {},
   "source": [
    "[[ 2차 시험 : 분류모델의 성능평가 ]]  \n",
    "1.\n",
    "싸이런킷에서 제공하는 분석용 데이터를 임시로   \n",
    "특성 20개까지 데이터 10000개를  \n",
    "만들어라.(동일한 성능을 내기 위해 난수씨드를   \n",
    "고정해도 괜찮음)  \n",
    "2.  \n",
    "아래 5개의 분류기를 이용하여   \n",
    "예측 성능 평가를 진행하라  \n",
    "- 결정트리분류  \n",
    "- 로지스틱회귀  \n",
    "- 랜덤포레스트분류  \n",
    "- 서포트백터머신분류  \n",
    "- 나이브베이즈  \n",
    "3. \n",
    "성능 평가 결과는   \n",
    "- ROC curve 시각화 자료  \n",
    "- AUC 값  \n",
    "2가지를 기초로 결과를 제시하시오  "
   ]
  },
  {
   "cell_type": "code",
   "execution_count": 1,
   "metadata": {},
   "outputs": [],
   "source": [
    "import sklearn.datasets as mls\n",
    "import pandas as pd"
   ]
  },
  {
   "cell_type": "code",
   "execution_count": 2,
   "metadata": {},
   "outputs": [],
   "source": [
    "#분류파일 생성 n_samples=10000, n_features=20\n",
    "data = mls.make_classification(n_samples=10000, n_features=20)"
   ]
  },
  {
   "cell_type": "code",
   "execution_count": 3,
   "metadata": {},
   "outputs": [],
   "source": [
    "X,Y= data # 데이터를 data와 train으로 쪼갠다."
   ]
  },
  {
   "cell_type": "code",
   "execution_count": 4,
   "metadata": {},
   "outputs": [],
   "source": [
    "data_X = pd.DataFrame(X,columns=[col for col in range(20)])"
   ]
  },
  {
   "cell_type": "code",
   "execution_count": 5,
   "metadata": {},
   "outputs": [
    {
     "data": {
      "text/html": [
       "<div>\n",
       "<style scoped>\n",
       "    .dataframe tbody tr th:only-of-type {\n",
       "        vertical-align: middle;\n",
       "    }\n",
       "\n",
       "    .dataframe tbody tr th {\n",
       "        vertical-align: top;\n",
       "    }\n",
       "\n",
       "    .dataframe thead th {\n",
       "        text-align: right;\n",
       "    }\n",
       "</style>\n",
       "<table border=\"1\" class=\"dataframe\">\n",
       "  <thead>\n",
       "    <tr style=\"text-align: right;\">\n",
       "      <th></th>\n",
       "      <th>0</th>\n",
       "      <th>1</th>\n",
       "      <th>2</th>\n",
       "      <th>3</th>\n",
       "      <th>4</th>\n",
       "      <th>5</th>\n",
       "      <th>6</th>\n",
       "      <th>7</th>\n",
       "      <th>8</th>\n",
       "      <th>9</th>\n",
       "      <th>10</th>\n",
       "      <th>11</th>\n",
       "      <th>12</th>\n",
       "      <th>13</th>\n",
       "      <th>14</th>\n",
       "      <th>15</th>\n",
       "      <th>16</th>\n",
       "      <th>17</th>\n",
       "      <th>18</th>\n",
       "      <th>19</th>\n",
       "    </tr>\n",
       "  </thead>\n",
       "  <tbody>\n",
       "    <tr>\n",
       "      <th>0</th>\n",
       "      <td>-0.323305</td>\n",
       "      <td>2.454031</td>\n",
       "      <td>-0.553098</td>\n",
       "      <td>-1.669161</td>\n",
       "      <td>-1.166383</td>\n",
       "      <td>-1.144523</td>\n",
       "      <td>2.131862</td>\n",
       "      <td>-0.358059</td>\n",
       "      <td>-0.394504</td>\n",
       "      <td>-0.827090</td>\n",
       "      <td>1.169078</td>\n",
       "      <td>-0.497384</td>\n",
       "      <td>-1.123786</td>\n",
       "      <td>-0.635685</td>\n",
       "      <td>0.516228</td>\n",
       "      <td>0.638217</td>\n",
       "      <td>-0.951357</td>\n",
       "      <td>0.372981</td>\n",
       "      <td>-1.235541</td>\n",
       "      <td>0.467539</td>\n",
       "    </tr>\n",
       "    <tr>\n",
       "      <th>1</th>\n",
       "      <td>-0.766969</td>\n",
       "      <td>-0.272508</td>\n",
       "      <td>-0.169867</td>\n",
       "      <td>0.219693</td>\n",
       "      <td>0.298727</td>\n",
       "      <td>-0.509693</td>\n",
       "      <td>-0.069966</td>\n",
       "      <td>0.479066</td>\n",
       "      <td>-2.463342</td>\n",
       "      <td>-0.751301</td>\n",
       "      <td>-2.161361</td>\n",
       "      <td>-0.831130</td>\n",
       "      <td>-0.883439</td>\n",
       "      <td>-0.938089</td>\n",
       "      <td>1.910253</td>\n",
       "      <td>0.037202</td>\n",
       "      <td>-1.286022</td>\n",
       "      <td>-0.262389</td>\n",
       "      <td>0.410780</td>\n",
       "      <td>-0.335219</td>\n",
       "    </tr>\n",
       "    <tr>\n",
       "      <th>2</th>\n",
       "      <td>-1.308476</td>\n",
       "      <td>-1.921073</td>\n",
       "      <td>-1.781207</td>\n",
       "      <td>1.635418</td>\n",
       "      <td>2.532939</td>\n",
       "      <td>-1.753203</td>\n",
       "      <td>-0.210470</td>\n",
       "      <td>0.514545</td>\n",
       "      <td>-1.148224</td>\n",
       "      <td>1.143400</td>\n",
       "      <td>-0.825163</td>\n",
       "      <td>0.025616</td>\n",
       "      <td>0.069335</td>\n",
       "      <td>-1.173964</td>\n",
       "      <td>-0.838968</td>\n",
       "      <td>0.560471</td>\n",
       "      <td>0.112214</td>\n",
       "      <td>0.303362</td>\n",
       "      <td>-0.260348</td>\n",
       "      <td>-0.559099</td>\n",
       "    </tr>\n",
       "    <tr>\n",
       "      <th>3</th>\n",
       "      <td>-1.594238</td>\n",
       "      <td>-0.923966</td>\n",
       "      <td>-0.915200</td>\n",
       "      <td>0.795263</td>\n",
       "      <td>1.261052</td>\n",
       "      <td>0.998397</td>\n",
       "      <td>0.728491</td>\n",
       "      <td>0.141526</td>\n",
       "      <td>0.125140</td>\n",
       "      <td>-1.937115</td>\n",
       "      <td>-0.598584</td>\n",
       "      <td>-0.525275</td>\n",
       "      <td>-0.202690</td>\n",
       "      <td>-0.079665</td>\n",
       "      <td>0.581425</td>\n",
       "      <td>-1.279656</td>\n",
       "      <td>1.139010</td>\n",
       "      <td>-0.702165</td>\n",
       "      <td>-1.689960</td>\n",
       "      <td>-0.106122</td>\n",
       "    </tr>\n",
       "    <tr>\n",
       "      <th>4</th>\n",
       "      <td>1.293065</td>\n",
       "      <td>-0.415138</td>\n",
       "      <td>1.290590</td>\n",
       "      <td>0.104633</td>\n",
       "      <td>-0.678414</td>\n",
       "      <td>-0.253818</td>\n",
       "      <td>1.153624</td>\n",
       "      <td>0.272196</td>\n",
       "      <td>-1.574315</td>\n",
       "      <td>0.633322</td>\n",
       "      <td>1.649825</td>\n",
       "      <td>-0.575044</td>\n",
       "      <td>-0.618836</td>\n",
       "      <td>-0.106141</td>\n",
       "      <td>0.189232</td>\n",
       "      <td>-1.738695</td>\n",
       "      <td>0.424189</td>\n",
       "      <td>-1.013008</td>\n",
       "      <td>1.474273</td>\n",
       "      <td>-0.879335</td>\n",
       "    </tr>\n",
       "  </tbody>\n",
       "</table>\n",
       "</div>"
      ],
      "text/plain": [
       "         0         1         2         3         4         5         6   \\\n",
       "0 -0.323305  2.454031 -0.553098 -1.669161 -1.166383 -1.144523  2.131862   \n",
       "1 -0.766969 -0.272508 -0.169867  0.219693  0.298727 -0.509693 -0.069966   \n",
       "2 -1.308476 -1.921073 -1.781207  1.635418  2.532939 -1.753203 -0.210470   \n",
       "3 -1.594238 -0.923966 -0.915200  0.795263  1.261052  0.998397  0.728491   \n",
       "4  1.293065 -0.415138  1.290590  0.104633 -0.678414 -0.253818  1.153624   \n",
       "\n",
       "         7         8         9         10        11        12        13  \\\n",
       "0 -0.358059 -0.394504 -0.827090  1.169078 -0.497384 -1.123786 -0.635685   \n",
       "1  0.479066 -2.463342 -0.751301 -2.161361 -0.831130 -0.883439 -0.938089   \n",
       "2  0.514545 -1.148224  1.143400 -0.825163  0.025616  0.069335 -1.173964   \n",
       "3  0.141526  0.125140 -1.937115 -0.598584 -0.525275 -0.202690 -0.079665   \n",
       "4  0.272196 -1.574315  0.633322  1.649825 -0.575044 -0.618836 -0.106141   \n",
       "\n",
       "         14        15        16        17        18        19  \n",
       "0  0.516228  0.638217 -0.951357  0.372981 -1.235541  0.467539  \n",
       "1  1.910253  0.037202 -1.286022 -0.262389  0.410780 -0.335219  \n",
       "2 -0.838968  0.560471  0.112214  0.303362 -0.260348 -0.559099  \n",
       "3  0.581425 -1.279656  1.139010 -0.702165 -1.689960 -0.106122  \n",
       "4  0.189232 -1.738695  0.424189 -1.013008  1.474273 -0.879335  "
      ]
     },
     "execution_count": 5,
     "metadata": {},
     "output_type": "execute_result"
    }
   ],
   "source": [
    "data_X.head()"
   ]
  },
  {
   "cell_type": "code",
   "execution_count": 7,
   "metadata": {},
   "outputs": [],
   "source": [
    "data_Y=pd.Series(Y,name='label')"
   ]
  },
  {
   "cell_type": "code",
   "execution_count": 8,
   "metadata": {},
   "outputs": [],
   "source": [
    "# 이진 분류 형태(true,false)\n",
    "data_Y=[element==1 for element in data_Y]"
   ]
  },
  {
   "cell_type": "code",
   "execution_count": 9,
   "metadata": {},
   "outputs": [],
   "source": [
    "data_Y=pd.Series(data_Y,name='label')"
   ]
  },
  {
   "cell_type": "code",
   "execution_count": 10,
   "metadata": {},
   "outputs": [],
   "source": [
    "from sklearn.model_selection import train_test_split"
   ]
  },
  {
   "cell_type": "code",
   "execution_count": 11,
   "metadata": {},
   "outputs": [],
   "source": [
    "train_X,test_X,train_Y,test_Y = train_test_split(data_X,data_Y)"
   ]
  },
  {
   "cell_type": "code",
   "execution_count": 12,
   "metadata": {},
   "outputs": [
    {
     "data": {
      "text/plain": [
       "(7500, 20)"
      ]
     },
     "execution_count": 12,
     "metadata": {},
     "output_type": "execute_result"
    }
   ],
   "source": [
    "# 데이터가 원하는 형태로 쪼개졌는지 확인.\n",
    "train_X.shape"
   ]
  },
  {
   "cell_type": "code",
   "execution_count": 13,
   "metadata": {},
   "outputs": [
    {
     "data": {
      "text/plain": [
       "(7500,)"
      ]
     },
     "execution_count": 13,
     "metadata": {},
     "output_type": "execute_result"
    }
   ],
   "source": [
    "train_Y.shape"
   ]
  },
  {
   "cell_type": "code",
   "execution_count": 14,
   "metadata": {},
   "outputs": [
    {
     "data": {
      "text/plain": [
       "(2500, 20)"
      ]
     },
     "execution_count": 14,
     "metadata": {},
     "output_type": "execute_result"
    }
   ],
   "source": [
    "test_X.shape"
   ]
  },
  {
   "cell_type": "code",
   "execution_count": 15,
   "metadata": {},
   "outputs": [
    {
     "data": {
      "text/plain": [
       "9063    False\n",
       "8853    False\n",
       "2779     True\n",
       "8896    False\n",
       "5667     True\n",
       "9633    False\n",
       "2582    False\n",
       "3000    False\n",
       "8847    False\n",
       "6055     True\n",
       "8392    False\n",
       "3068    False\n",
       "4675     True\n",
       "6789    False\n",
       "9610    False\n",
       "3211     True\n",
       "4736     True\n",
       "3266    False\n",
       "7453    False\n",
       "605      True\n",
       "7370    False\n",
       "3464     True\n",
       "8295     True\n",
       "7472    False\n",
       "3807     True\n",
       "257      True\n",
       "7748    False\n",
       "163     False\n",
       "9068     True\n",
       "8785    False\n",
       "        ...  \n",
       "82      False\n",
       "3446    False\n",
       "7928    False\n",
       "2328     True\n",
       "713      True\n",
       "2720     True\n",
       "7145     True\n",
       "3599     True\n",
       "6105    False\n",
       "566      True\n",
       "8805     True\n",
       "4814     True\n",
       "6901     True\n",
       "6475     True\n",
       "1869    False\n",
       "6451    False\n",
       "8766    False\n",
       "948      True\n",
       "504     False\n",
       "8770    False\n",
       "8767     True\n",
       "1689    False\n",
       "6398    False\n",
       "6369     True\n",
       "465      True\n",
       "3075     True\n",
       "4182     True\n",
       "4813     True\n",
       "3708     True\n",
       "2       False\n",
       "Name: label, Length: 2500, dtype: bool"
      ]
     },
     "execution_count": 15,
     "metadata": {},
     "output_type": "execute_result"
    }
   ],
   "source": [
    "test_Y"
   ]
  },
  {
   "cell_type": "code",
   "execution_count": 16,
   "metadata": {},
   "outputs": [],
   "source": [
    "#roc 커브 \n",
    "from sklearn.metrics import roc_curve\n",
    "#로지스틱\n",
    "from sklearn.linear_model import LogisticRegression\n",
    "# 결정 트리 분류\n",
    "from sklearn.tree import DecisionTreeClassifier\n",
    "# 랜덤포레스트 분류\n",
    "from sklearn.ensemble import RandomForestClassifier\n",
    "# 나이브베이즈 가우시안\n",
    "from sklearn.naive_bayes import GaussianNB\n",
    "#auc\n",
    "from sklearn.metrics import auc "
   ]
  },
  {
   "cell_type": "code",
   "execution_count": 17,
   "metadata": {},
   "outputs": [],
   "source": [
    "#라벨,라인타입,모델 리스트(튜플)\n",
    "CLASS_DICT = {\n",
    "    # 키(분류기의 이름) : (시각화 선의 모양, 분류기 객체 )\n",
    "    '로지스틱회귀':('-', LogisticRegression()),\n",
    "    '결정트리분류':('--', DecisionTreeClassifier(max_depth=5) ),\n",
    "    '랜덤포레스트':('.-', RandomForestClassifier(max_depth=5, n_estimators = 10, max_features=1 )),\n",
    "    '나이브베이즈':(':', GaussianNB() )        \n",
    "}"
   ]
  },
  {
   "cell_type": "code",
   "execution_count": 18,
   "metadata": {},
   "outputs": [],
   "source": [
    "#시각화 한글화\n",
    "import platform\n",
    "import matplotlib.pyplot as plt\n",
    "from matplotlib import font_manager, rc\n",
    "# 한글처리\n",
    "plt.rcParams['axes.unicode_minus'] = False\n",
    "if platform.system() == 'Darwin':    # 맥\n",
    "    rc( 'font', family='AppleGothic' )\n",
    "elif platform.system() == 'Windows': # 윈도우\n",
    "    # 폰트 차후 확인\n",
    "    fontPath = 'c:/Windows/Fonts/malgun.ttf'\n",
    "    fontName = font_manager.FontProperties( fname=fontPath ).get_name()\n",
    "    rc( 'font', family=fontName )\n",
    "else:\n",
    "    print('알수없는 시스템. 미적용')"
   ]
  },
  {
   "cell_type": "code",
   "execution_count": 19,
   "metadata": {},
   "outputs": [
    {
     "data": {
      "text/plain": [
       "<matplotlib.legend.Legend at 0x97e31800b8>"
      ]
     },
     "execution_count": 19,
     "metadata": {},
     "output_type": "execute_result"
    },
    {
     "data": {
      "image/png": "[encoded data removed]",
      "text/plain": [
       "<Figure size 432x288 with 1 Axes>"
      ]
     },
     "metadata": {},
     "output_type": "display_data"
    }
   ],
   "source": [
    "#시각화및 auc\n",
    "for label,(line_type,model) in CLASS_DICT.items():\n",
    "    #모델학습\n",
    "    model.fit(train_X,train_Y)    \n",
    "    pred = model.predict_proba(test_X)\n",
    "    #계산할부분\n",
    "    pre = pd.Series(pred[:,1])\n",
    "    #roc커브에 필요한 계산\n",
    "    fpr, tpr, threshold = roc_curve(test_Y,pre)\n",
    "    #auc계산\n",
    "    aucScore = auc(fpr,tpr)\n",
    "    # auc값과 분류기 이름을 레이블로 등록\n",
    "    label = '분류기:%s auc=%r' % (label,aucScore) \n",
    "    plt.plot(fpr,tpr,line_type, label=label)\n",
    "#범례표시\n",
    "plt.legend()\n",
    "    \n",
    "    \n",
    "    \n",
    "    \n",
    "    \n",
    "    \n",
    "    \n",
    "    "
   ]
  },
  {
   "cell_type": "markdown",
   "metadata": {},
   "source": [
    "왼쪽 위를 향하는 그래프가 가장 좋으니 결정 트리가 가장 좋은걸 알 수 있다. \n",
    "auc 값을 비교 했을때 결정 트리가 0.984으로 가장 높음을 알 수 있다.  \n",
    "따라서 결정 트리가 가장 분류를 잘하는 모델이라고 할 수 있다.  \n"
   ]
  },
  {
   "cell_type": "code",
   "execution_count": null,
   "metadata": {},
   "outputs": [],
   "source": []
  },
  {
   "cell_type": "code",
   "execution_count": null,
   "metadata": {},
   "outputs": [],
   "source": []
  },
  {
   "cell_type": "code",
   "execution_count": null,
   "metadata": {},
   "outputs": [],
   "source": []
  },
  {
   "cell_type": "code",
   "execution_count": null,
   "metadata": {},
   "outputs": [],
   "source": []
  },
  {
   "cell_type": "code",
   "execution_count": null,
   "metadata": {},
   "outputs": [],
   "source": []
  }
 ],
 "metadata": {
  "kernelspec": {
   "display_name": "Python 3",
   "language": "python",
   "name": "python3"
  },
  "language_info": {
   "codemirror_mode": {
    "name": "ipython",
    "version": 3
   },
   "file_extension": ".py",
   "mimetype": "text/x-python",
   "name": "python",
   "nbconvert_exporter": "python",
   "pygments_lexer": "ipython3",
   "version": "3.6.5"
  }
 },
 "nbformat": 4,
 "nbformat_minor": 2
}
